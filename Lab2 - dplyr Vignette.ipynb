{
 "cells": [
  {
   "cell_type": "markdown",
   "metadata": {},
   "source": [
    "### Getting Started"
   ]
  },
  {
   "cell_type": "code",
   "execution_count": 1,
   "metadata": {
    "collapsed": false
   },
   "outputs": [
    {
     "name": "stderr",
     "output_type": "stream",
     "text": [
      "\n",
      "Attaching package: ‘dplyr’\n",
      "\n",
      "The following objects are masked from ‘package:stats’:\n",
      "\n",
      "    filter, lag\n",
      "\n",
      "The following objects are masked from ‘package:base’:\n",
      "\n",
      "    intersect, setdiff, setequal, union\n",
      "\n"
     ]
    }
   ],
   "source": [
    "library(dplyr)"
   ]
  },
  {
   "cell_type": "code",
   "execution_count": 2,
   "metadata": {
    "collapsed": true
   },
   "outputs": [],
   "source": [
    "# Create a table\n",
    "\n",
    "my_db <- src_sqlite(\"my_db.sqlite3\", create = T)"
   ]
  },
  {
   "cell_type": "code",
   "execution_count": 3,
   "metadata": {
    "collapsed": false
   },
   "outputs": [
    {
     "name": "stderr",
     "output_type": "stream",
     "text": [
      "Updating HTML index of packages in '.Library'\n",
      "Making 'packages.html' ... done\n"
     ]
    }
   ],
   "source": [
    "install.packages(\"nycflights13\")"
   ]
  },
  {
   "cell_type": "code",
   "execution_count": 4,
   "metadata": {
    "collapsed": false
   },
   "outputs": [],
   "source": [
    "#  Getting data into a database\n",
    "\n",
    "library(nycflights13)\n",
    "flights_sqlite <- copy_to(my_db, flights, temporary = FALSE, indexes = list(c(\"year\", \"month\", \"day\"), \"carrier\", \"tailnum\"))"
   ]
  },
  {
   "cell_type": "code",
   "execution_count": 5,
   "metadata": {
    "collapsed": false
   },
   "outputs": [
    {
     "name": "stderr",
     "output_type": "stream",
     "text": [
      "Caching nycflights db at /tmp/Rtmp7xv2vF/nycflights13.sqlite\n",
      "Creating table: airlines\n",
      "Creating table: airports\n",
      "Creating table: flights\n",
      "Creating table: planes\n",
      "Creating table: weather\n"
     ]
    }
   ],
   "source": [
    "# For this particular dataset, there’s a built-in src that will cache flights in a standard location\n",
    "\n",
    "flights_sqlite <- tbl(nycflights13_sqlite(), \"flights\")"
   ]
  },
  {
   "cell_type": "code",
   "execution_count": 6,
   "metadata": {
    "collapsed": false
   },
   "outputs": [
    {
     "data": {
      "text/plain": [
       "Source:   query [?? x 19]\n",
       "Database: sqlite 3.11.1 [/tmp/Rtmp7xv2vF/nycflights13.sqlite]\n",
       "\n",
       "    year month   day dep_time sched_dep_time dep_delay arr_time sched_arr_time\n",
       "   <int> <int> <int>    <int>          <int>     <dbl>    <int>          <int>\n",
       "1   2013     1     1      517            515         2      830            819\n",
       "2   2013     1     1      533            529         4      850            830\n",
       "3   2013     1     1      542            540         2      923            850\n",
       "4   2013     1     1      544            545        -1     1004           1022\n",
       "5   2013     1     1      554            600        -6      812            837\n",
       "6   2013     1     1      554            558        -4      740            728\n",
       "7   2013     1     1      555            600        -5      913            854\n",
       "8   2013     1     1      557            600        -3      709            723\n",
       "9   2013     1     1      557            600        -3      838            846\n",
       "10  2013     1     1      558            600        -2      753            745\n",
       "# ... with more rows, and 11 more variables: arr_delay <dbl>, carrier <chr>,\n",
       "#   flight <int>, tailnum <chr>, origin <chr>, dest <chr>, air_time <dbl>,\n",
       "#   distance <dbl>, hour <dbl>, minute <dbl>, time_hour <dbl>"
      ]
     },
     "metadata": {},
     "output_type": "display_data"
    }
   ],
   "source": [
    "flights_sqlite"
   ]
  },
  {
   "cell_type": "code",
   "execution_count": 7,
   "metadata": {
    "collapsed": false
   },
   "outputs": [
    {
     "data": {
      "text/plain": [
       "Source:   query [?? x 19]\n",
       "Database: sqlite 3.11.1 [my_db.sqlite3]\n",
       "\n",
       "    year month   day dep_time sched_dep_time dep_delay arr_time sched_arr_time\n",
       "   <int> <int> <int>    <int>          <int>     <dbl>    <int>          <int>\n",
       "1   2013     1     1      517            515         2      830            819\n",
       "2   2013     1     1      533            529         4      850            830\n",
       "3   2013     1     1      542            540         2      923            850\n",
       "4   2013     1     1      544            545        -1     1004           1022\n",
       "5   2013     1     1      554            600        -6      812            837\n",
       "6   2013     1     1      554            558        -4      740            728\n",
       "7   2013     1     1      555            600        -5      913            854\n",
       "8   2013     1     1      557            600        -3      709            723\n",
       "9   2013     1     1      557            600        -3      838            846\n",
       "10  2013     1     1      558            600        -2      753            745\n",
       "# ... with more rows, and 11 more variables: arr_delay <dbl>, carrier <chr>,\n",
       "#   flight <int>, tailnum <chr>, origin <chr>, dest <chr>, air_time <dbl>,\n",
       "#   distance <dbl>, hour <dbl>, minute <dbl>, time_hour <dbl>"
      ]
     },
     "metadata": {},
     "output_type": "display_data"
    }
   ],
   "source": [
    "#Arbitrary SQL\n",
    "\n",
    "tbl(my_db, sql(\"SELECT * FROM flights\"))"
   ]
  },
  {
   "cell_type": "markdown",
   "metadata": {},
   "source": [
    "### Basic verbs"
   ]
  },
  {
   "cell_type": "code",
   "execution_count": 8,
   "metadata": {
    "collapsed": false
   },
   "outputs": [
    {
     "data": {
      "text/plain": [
       "Source:   query [?? x 5]\n",
       "Database: sqlite 3.11.1 [/tmp/Rtmp7xv2vF/nycflights13.sqlite]\n",
       "\n",
       "    year month   day dep_delay arr_delay\n",
       "   <int> <int> <int>     <dbl>     <dbl>\n",
       "1   2013     1     1         2        11\n",
       "2   2013     1     1         4        20\n",
       "3   2013     1     1         2        33\n",
       "4   2013     1     1        -1       -18\n",
       "5   2013     1     1        -6       -25\n",
       "6   2013     1     1        -4        12\n",
       "7   2013     1     1        -5        19\n",
       "8   2013     1     1        -3       -14\n",
       "9   2013     1     1        -3        -8\n",
       "10  2013     1     1        -2         8\n",
       "# ... with more rows"
      ]
     },
     "metadata": {},
     "output_type": "display_data"
    }
   ],
   "source": [
    "select(flights_sqlite, year:day, dep_delay, arr_delay)"
   ]
  },
  {
   "cell_type": "code",
   "execution_count": 9,
   "metadata": {
    "collapsed": false
   },
   "outputs": [
    {
     "data": {
      "text/plain": [
       "Source:   query [?? x 19]\n",
       "Database: sqlite 3.11.1 [/tmp/Rtmp7xv2vF/nycflights13.sqlite]\n",
       "\n",
       "    year month   day dep_time sched_dep_time dep_delay arr_time sched_arr_time\n",
       "   <int> <int> <int>    <int>          <int>     <dbl>    <int>          <int>\n",
       "1   2013     1     1      848           1835       853     1001           1950\n",
       "2   2013     1     1     1815           1325       290     2120           1542\n",
       "3   2013     1     1     1842           1422       260     1958           1535\n",
       "4   2013     1     1     2115           1700       255     2330           1920\n",
       "5   2013     1     1     2205           1720       285       46           2040\n",
       "6   2013     1     1     2343           1724       379      314           1938\n",
       "7   2013     1     2     1332            904       268     1616           1128\n",
       "8   2013     1     2     1412            838       334     1710           1147\n",
       "9   2013     1     2     1607           1030       337     2003           1355\n",
       "10  2013     1     2     2131           1512       379     2340           1741\n",
       "# ... with more rows, and 11 more variables: arr_delay <dbl>, carrier <chr>,\n",
       "#   flight <int>, tailnum <chr>, origin <chr>, dest <chr>, air_time <dbl>,\n",
       "#   distance <dbl>, hour <dbl>, minute <dbl>, time_hour <dbl>"
      ]
     },
     "metadata": {},
     "output_type": "display_data"
    }
   ],
   "source": [
    "filter(flights_sqlite, dep_delay > 240)"
   ]
  },
  {
   "cell_type": "code",
   "execution_count": 10,
   "metadata": {
    "collapsed": false
   },
   "outputs": [
    {
     "data": {
      "text/plain": [
       "Source:   query [?? x 19]\n",
       "Database: sqlite 3.11.1 [/tmp/Rtmp7xv2vF/nycflights13.sqlite]\n",
       "\n",
       "    year month   day dep_time sched_dep_time dep_delay arr_time sched_arr_time\n",
       "   <int> <int> <int>    <int>          <int>     <dbl>    <int>          <int>\n",
       "1   2013     1     1      517            515         2      830            819\n",
       "2   2013     1     1      533            529         4      850            830\n",
       "3   2013     1     1      542            540         2      923            850\n",
       "4   2013     1     1      544            545        -1     1004           1022\n",
       "5   2013     1     1      554            600        -6      812            837\n",
       "6   2013     1     1      554            558        -4      740            728\n",
       "7   2013     1     1      555            600        -5      913            854\n",
       "8   2013     1     1      557            600        -3      709            723\n",
       "9   2013     1     1      557            600        -3      838            846\n",
       "10  2013     1     1      558            600        -2      753            745\n",
       "# ... with more rows, and 11 more variables: arr_delay <dbl>, carrier <chr>,\n",
       "#   flight <int>, tailnum <chr>, origin <chr>, dest <chr>, air_time <dbl>,\n",
       "#   distance <dbl>, hour <dbl>, minute <dbl>, time_hour <dbl>"
      ]
     },
     "metadata": {},
     "output_type": "display_data"
    }
   ],
   "source": [
    "arrange(flights_sqlite, year, month, day)"
   ]
  },
  {
   "cell_type": "code",
   "execution_count": 11,
   "metadata": {
    "collapsed": false
   },
   "outputs": [
    {
     "data": {
      "text/plain": [
       "Source:   query [?? x 20]\n",
       "Database: sqlite 3.11.1 [/tmp/Rtmp7xv2vF/nycflights13.sqlite]\n",
       "\n",
       "    year month   day dep_time sched_dep_time dep_delay arr_time sched_arr_time\n",
       "   <int> <int> <int>    <int>          <int>     <dbl>    <int>          <int>\n",
       "1   2013     1     1      517            515         2      830            819\n",
       "2   2013     1     1      533            529         4      850            830\n",
       "3   2013     1     1      542            540         2      923            850\n",
       "4   2013     1     1      544            545        -1     1004           1022\n",
       "5   2013     1     1      554            600        -6      812            837\n",
       "6   2013     1     1      554            558        -4      740            728\n",
       "7   2013     1     1      555            600        -5      913            854\n",
       "8   2013     1     1      557            600        -3      709            723\n",
       "9   2013     1     1      557            600        -3      838            846\n",
       "10  2013     1     1      558            600        -2      753            745\n",
       "# ... with more rows, and 12 more variables: arr_delay <dbl>, carrier <chr>,\n",
       "#   flight <int>, tailnum <chr>, origin <chr>, dest <chr>, air_time <dbl>,\n",
       "#   distance <dbl>, hour <dbl>, minute <dbl>, time_hour <dbl>, speed <dbl>"
      ]
     },
     "metadata": {},
     "output_type": "display_data"
    }
   ],
   "source": [
    "mutate(flights_sqlite, speed = air_time / distance)"
   ]
  },
  {
   "cell_type": "code",
   "execution_count": 12,
   "metadata": {
    "collapsed": false
   },
   "outputs": [
    {
     "data": {
      "text/plain": [
       "Source:   query [?? x 1]\n",
       "Database: sqlite 3.11.1 [/tmp/Rtmp7xv2vF/nycflights13.sqlite]\n",
       "\n",
       "    delay\n",
       "    <dbl>\n",
       "1 1349.11"
      ]
     },
     "metadata": {},
     "output_type": "display_data"
    }
   ],
   "source": [
    "summarise(flights_sqlite, delay = mean(dep_time))"
   ]
  },
  {
   "cell_type": "markdown",
   "metadata": {},
   "source": [
    "### Laziness"
   ]
  },
  {
   "cell_type": "code",
   "execution_count": 13,
   "metadata": {
    "collapsed": true
   },
   "outputs": [],
   "source": [
    "c1 <- filter(flights_sqlite, year == 2013, month == 1, day == 1)\n",
    "c2 <- select(c1, year, month, day, carrier, dep_delay, air_time, distance)\n",
    "c3 <- mutate(c2, speed = distance / air_time * 60)\n",
    "c4 <- arrange(c3, year, month, day, carrier)"
   ]
  },
  {
   "cell_type": "code",
   "execution_count": 14,
   "metadata": {
    "collapsed": false
   },
   "outputs": [
    {
     "data": {
      "text/plain": [
       "Source:   query [?? x 8]\n",
       "Database: sqlite 3.11.1 [/tmp/Rtmp7xv2vF/nycflights13.sqlite]\n",
       "\n",
       "    year month   day carrier dep_delay air_time distance    speed\n",
       "   <int> <int> <int>   <chr>     <dbl>    <dbl>    <dbl>    <dbl>\n",
       "1   2013     1     1      9E         0      189     1029 326.6667\n",
       "2   2013     1     1      9E        -9       57      228 240.0000\n",
       "3   2013     1     1      9E        -3       68      301 265.5882\n",
       "4   2013     1     1      9E        -6       57      209 220.0000\n",
       "5   2013     1     1      9E        -8       66      264 240.0000\n",
       "6   2013     1     1      9E         0       40      184 276.0000\n",
       "7   2013     1     1      9E         6      146      740 304.1096\n",
       "8   2013     1     1      9E         0      139      665 287.0504\n",
       "9   2013     1     1      9E        -8      150      765 306.0000\n",
       "10  2013     1     1      9E        -6       41      187 273.6585\n",
       "# ... with more rows"
      ]
     },
     "metadata": {},
     "output_type": "display_data"
    }
   ],
   "source": [
    "c4"
   ]
  },
  {
   "cell_type": "code",
   "execution_count": 15,
   "metadata": {
    "collapsed": false,
    "scrolled": true
   },
   "outputs": [
    {
     "data": {
      "text/html": [
       "<table>\n",
       "<thead><tr><th scope=col>year</th><th scope=col>month</th><th scope=col>day</th><th scope=col>carrier</th><th scope=col>dep_delay</th><th scope=col>air_time</th><th scope=col>distance</th><th scope=col>speed</th></tr></thead>\n",
       "<tbody>\n",
       "\t<tr><td>2013    </td><td>1       </td><td>1       </td><td>9E      </td><td>  0     </td><td>189     </td><td>1029    </td><td>326.6667</td></tr>\n",
       "\t<tr><td>2013    </td><td>1       </td><td>1       </td><td>9E      </td><td> -9     </td><td> 57     </td><td> 228    </td><td>240.0000</td></tr>\n",
       "\t<tr><td>2013    </td><td>1       </td><td>1       </td><td>9E      </td><td> -3     </td><td> 68     </td><td> 301    </td><td>265.5882</td></tr>\n",
       "\t<tr><td>2013    </td><td>1       </td><td>1       </td><td>9E      </td><td> -6     </td><td> 57     </td><td> 209    </td><td>220.0000</td></tr>\n",
       "\t<tr><td>2013    </td><td>1       </td><td>1       </td><td>9E      </td><td> -8     </td><td> 66     </td><td> 264    </td><td>240.0000</td></tr>\n",
       "\t<tr><td>2013    </td><td>1       </td><td>1       </td><td>9E      </td><td>  0     </td><td> 40     </td><td> 184    </td><td>276.0000</td></tr>\n",
       "\t<tr><td>2013    </td><td>1       </td><td>1       </td><td>9E      </td><td>  6     </td><td>146     </td><td> 740    </td><td>304.1096</td></tr>\n",
       "\t<tr><td>2013    </td><td>1       </td><td>1       </td><td>9E      </td><td>  0     </td><td>139     </td><td> 665    </td><td>287.0504</td></tr>\n",
       "\t<tr><td>2013    </td><td>1       </td><td>1       </td><td>9E      </td><td> -8     </td><td>150     </td><td> 765    </td><td>306.0000</td></tr>\n",
       "\t<tr><td>2013    </td><td>1       </td><td>1       </td><td>9E      </td><td> -6     </td><td> 41     </td><td> 187    </td><td>273.6585</td></tr>\n",
       "\t<tr><td>2013    </td><td>1       </td><td>1       </td><td>9E      </td><td>-10     </td><td> 35     </td><td>  94    </td><td>161.1429</td></tr>\n",
       "\t<tr><td>2013    </td><td>1       </td><td>1       </td><td>9E      </td><td> 52     </td><td>173     </td><td>1029    </td><td>356.8786</td></tr>\n",
       "\t<tr><td>2013    </td><td>1       </td><td>1       </td><td>9E      </td><td> 88     </td><td> 72     </td><td> 427    </td><td>355.8333</td></tr>\n",
       "\t<tr><td>2013    </td><td>1       </td><td>1       </td><td>9E      </td><td> -4     </td><td>107     </td><td> 509    </td><td>285.4206</td></tr>\n",
       "\t<tr><td>2013    </td><td>1       </td><td>1       </td><td>9E      </td><td> -3     </td><td>106     </td><td> 636    </td><td>360.0000</td></tr>\n",
       "\t<tr><td>2013    </td><td>1       </td><td>1       </td><td>9E      </td><td>  0     </td><td>207     </td><td>1182    </td><td>342.6087</td></tr>\n",
       "\t<tr><td>2013    </td><td>1       </td><td>1       </td><td>9E      </td><td>  0     </td><td>141     </td><td> 740    </td><td>314.8936</td></tr>\n",
       "\t<tr><td>2013    </td><td>1       </td><td>1       </td><td>9E      </td><td> -2     </td><td> 75     </td><td> 427    </td><td>341.6000</td></tr>\n",
       "\t<tr><td>2013    </td><td>1       </td><td>1       </td><td>9E      </td><td> 59     </td><td> NA     </td><td>1391    </td><td>      NA</td></tr>\n",
       "\t<tr><td>2013    </td><td>1       </td><td>1       </td><td>9E      </td><td>  5     </td><td>129     </td><td> 828    </td><td>385.1163</td></tr>\n",
       "\t<tr><td>2013    </td><td>1       </td><td>1       </td><td>9E      </td><td> -5     </td><td> 76     </td><td> 340    </td><td>268.4211</td></tr>\n",
       "\t<tr><td>2013    </td><td>1       </td><td>1       </td><td>9E      </td><td> -8     </td><td> 41     </td><td> 184    </td><td>269.2683</td></tr>\n",
       "\t<tr><td>2013    </td><td>1       </td><td>1       </td><td>9E      </td><td>  0     </td><td> 30     </td><td>  94    </td><td>188.0000</td></tr>\n",
       "\t<tr><td>2013    </td><td>1       </td><td>1       </td><td>9E      </td><td> 10     </td><td> 62     </td><td> 301    </td><td>291.2903</td></tr>\n",
       "\t<tr><td>2013    </td><td>1       </td><td>1       </td><td>9E      </td><td> 42     </td><td> 91     </td><td> 425    </td><td>280.2198</td></tr>\n",
       "\t<tr><td>2013    </td><td>1       </td><td>1       </td><td>9E      </td><td> 38     </td><td>118     </td><td> 589    </td><td>299.4915</td></tr>\n",
       "\t<tr><td>2013    </td><td>1       </td><td>1       </td><td>9E      </td><td> 11     </td><td> 43     </td><td> 213    </td><td>297.2093</td></tr>\n",
       "\t<tr><td>2013    </td><td>1       </td><td>1       </td><td>9E      </td><td>255     </td><td>115     </td><td> 589    </td><td>307.3043</td></tr>\n",
       "\t<tr><td>2013    </td><td>1       </td><td>1       </td><td>AA      </td><td>  2     </td><td>160     </td><td>1089    </td><td>408.3750</td></tr>\n",
       "\t<tr><td>2013    </td><td>1       </td><td>1       </td><td>AA      </td><td> -2     </td><td>138     </td><td> 733    </td><td>318.6957</td></tr>\n",
       "\t<tr><td>⋮</td><td>⋮</td><td>⋮</td><td>⋮</td><td>⋮</td><td>⋮</td><td>⋮</td><td>⋮</td></tr>\n",
       "\t<tr><td>2013    </td><td>1       </td><td>1       </td><td>VX      </td><td> 0      </td><td>362     </td><td>2475    </td><td>410.2210</td></tr>\n",
       "\t<tr><td>2013    </td><td>1       </td><td>1       </td><td>VX      </td><td> 0      </td><td>364     </td><td>2586    </td><td>426.2637</td></tr>\n",
       "\t<tr><td>2013    </td><td>1       </td><td>1       </td><td>VX      </td><td>-8      </td><td>349     </td><td>2475    </td><td>425.5014</td></tr>\n",
       "\t<tr><td>2013    </td><td>1       </td><td>1       </td><td>WN      </td><td>-1      </td><td> 40     </td><td> 185    </td><td>277.5000</td></tr>\n",
       "\t<tr><td>2013    </td><td>1       </td><td>1       </td><td>WN      </td><td>-1      </td><td>279     </td><td>1620    </td><td>348.3871</td></tr>\n",
       "\t<tr><td>2013    </td><td>1       </td><td>1       </td><td>WN      </td><td>-3      </td><td>146     </td><td> 711    </td><td>292.1918</td></tr>\n",
       "\t<tr><td>2013    </td><td>1       </td><td>1       </td><td>WN      </td><td> 4      </td><td>264     </td><td>1605    </td><td>364.7727</td></tr>\n",
       "\t<tr><td>2013    </td><td>1       </td><td>1       </td><td>WN      </td><td>-2      </td><td>145     </td><td> 725    </td><td>300.0000</td></tr>\n",
       "\t<tr><td>2013    </td><td>1       </td><td>1       </td><td>WN      </td><td>-3      </td><td>143     </td><td> 738    </td><td>309.6503</td></tr>\n",
       "\t<tr><td>2013    </td><td>1       </td><td>1       </td><td>WN      </td><td>-1      </td><td> 43     </td><td> 185    </td><td>258.1395</td></tr>\n",
       "\t<tr><td>2013    </td><td>1       </td><td>1       </td><td>WN      </td><td>-5      </td><td>176     </td><td> 888    </td><td>302.7273</td></tr>\n",
       "\t<tr><td>2013    </td><td>1       </td><td>1       </td><td>WN      </td><td>-2      </td><td> 38     </td><td> 169    </td><td>266.8421</td></tr>\n",
       "\t<tr><td>2013    </td><td>1       </td><td>1       </td><td>WN      </td><td> 0      </td><td>142     </td><td> 711    </td><td>300.4225</td></tr>\n",
       "\t<tr><td>2013    </td><td>1       </td><td>1       </td><td>WN      </td><td>-2      </td><td>137     </td><td> 738    </td><td>323.2117</td></tr>\n",
       "\t<tr><td>2013    </td><td>1       </td><td>1       </td><td>WN      </td><td> 0      </td><td>264     </td><td>1620    </td><td>368.1818</td></tr>\n",
       "\t<tr><td>2013    </td><td>1       </td><td>1       </td><td>WN      </td><td> 6      </td><td>239     </td><td>1411    </td><td>354.2259</td></tr>\n",
       "\t<tr><td>2013    </td><td>1       </td><td>1       </td><td>WN      </td><td>16      </td><td>334     </td><td>2133    </td><td>383.1737</td></tr>\n",
       "\t<tr><td>2013    </td><td>1       </td><td>1       </td><td>WN      </td><td> 5      </td><td>141     </td><td> 725    </td><td>308.5106</td></tr>\n",
       "\t<tr><td>2013    </td><td>1       </td><td>1       </td><td>WN      </td><td>-4      </td><td>141     </td><td> 711    </td><td>302.5532</td></tr>\n",
       "\t<tr><td>2013    </td><td>1       </td><td>1       </td><td>WN      </td><td>16      </td><td>133     </td><td> 738    </td><td>332.9323</td></tr>\n",
       "\t<tr><td>2013    </td><td>1       </td><td>1       </td><td>WN      </td><td> 3      </td><td>254     </td><td>1605    </td><td>379.1339</td></tr>\n",
       "\t<tr><td>2013    </td><td>1       </td><td>1       </td><td>WN      </td><td>-3      </td><td>181     </td><td> 888    </td><td>294.3646</td></tr>\n",
       "\t<tr><td>2013    </td><td>1       </td><td>1       </td><td>WN      </td><td> 7      </td><td>181     </td><td> 872    </td><td>289.0608</td></tr>\n",
       "\t<tr><td>2013    </td><td>1       </td><td>1       </td><td>WN      </td><td> 8      </td><td>245     </td><td>1411    </td><td>345.5510</td></tr>\n",
       "\t<tr><td>2013    </td><td>1       </td><td>1       </td><td>WN      </td><td>-1      </td><td>137     </td><td> 725    </td><td>317.5182</td></tr>\n",
       "\t<tr><td>2013    </td><td>1       </td><td>1       </td><td>WN      </td><td> 6      </td><td>148     </td><td> 711    </td><td>288.2432</td></tr>\n",
       "\t<tr><td>2013    </td><td>1       </td><td>1       </td><td>WN      </td><td>10      </td><td> 46     </td><td> 185    </td><td>241.3043</td></tr>\n",
       "\t<tr><td>2013    </td><td>1       </td><td>1       </td><td>WN      </td><td>-2      </td><td>131     </td><td> 738    </td><td>338.0153</td></tr>\n",
       "\t<tr><td>2013    </td><td>1       </td><td>1       </td><td>WN      </td><td>31      </td><td>134     </td><td> 711    </td><td>318.3582</td></tr>\n",
       "\t<tr><td>2013    </td><td>1       </td><td>1       </td><td>WN      </td><td>-2      </td><td>134     </td><td> 725    </td><td>324.6269</td></tr>\n",
       "</tbody>\n",
       "</table>\n"
      ],
      "text/latex": [
       "\\begin{tabular}{r|llllllll}\n",
       " year & month & day & carrier & dep\\_delay & air\\_time & distance & speed\\\\\n",
       "\\hline\n",
       "\t 2013     & 1        & 1        & 9E       &   0      & 189      & 1029     & 326.6667\\\\\n",
       "\t 2013     & 1        & 1        & 9E       &  -9      &  57      &  228     & 240.0000\\\\\n",
       "\t 2013     & 1        & 1        & 9E       &  -3      &  68      &  301     & 265.5882\\\\\n",
       "\t 2013     & 1        & 1        & 9E       &  -6      &  57      &  209     & 220.0000\\\\\n",
       "\t 2013     & 1        & 1        & 9E       &  -8      &  66      &  264     & 240.0000\\\\\n",
       "\t 2013     & 1        & 1        & 9E       &   0      &  40      &  184     & 276.0000\\\\\n",
       "\t 2013     & 1        & 1        & 9E       &   6      & 146      &  740     & 304.1096\\\\\n",
       "\t 2013     & 1        & 1        & 9E       &   0      & 139      &  665     & 287.0504\\\\\n",
       "\t 2013     & 1        & 1        & 9E       &  -8      & 150      &  765     & 306.0000\\\\\n",
       "\t 2013     & 1        & 1        & 9E       &  -6      &  41      &  187     & 273.6585\\\\\n",
       "\t 2013     & 1        & 1        & 9E       & -10      &  35      &   94     & 161.1429\\\\\n",
       "\t 2013     & 1        & 1        & 9E       &  52      & 173      & 1029     & 356.8786\\\\\n",
       "\t 2013     & 1        & 1        & 9E       &  88      &  72      &  427     & 355.8333\\\\\n",
       "\t 2013     & 1        & 1        & 9E       &  -4      & 107      &  509     & 285.4206\\\\\n",
       "\t 2013     & 1        & 1        & 9E       &  -3      & 106      &  636     & 360.0000\\\\\n",
       "\t 2013     & 1        & 1        & 9E       &   0      & 207      & 1182     & 342.6087\\\\\n",
       "\t 2013     & 1        & 1        & 9E       &   0      & 141      &  740     & 314.8936\\\\\n",
       "\t 2013     & 1        & 1        & 9E       &  -2      &  75      &  427     & 341.6000\\\\\n",
       "\t 2013     & 1        & 1        & 9E       &  59      &  NA      & 1391     &       NA\\\\\n",
       "\t 2013     & 1        & 1        & 9E       &   5      & 129      &  828     & 385.1163\\\\\n",
       "\t 2013     & 1        & 1        & 9E       &  -5      &  76      &  340     & 268.4211\\\\\n",
       "\t 2013     & 1        & 1        & 9E       &  -8      &  41      &  184     & 269.2683\\\\\n",
       "\t 2013     & 1        & 1        & 9E       &   0      &  30      &   94     & 188.0000\\\\\n",
       "\t 2013     & 1        & 1        & 9E       &  10      &  62      &  301     & 291.2903\\\\\n",
       "\t 2013     & 1        & 1        & 9E       &  42      &  91      &  425     & 280.2198\\\\\n",
       "\t 2013     & 1        & 1        & 9E       &  38      & 118      &  589     & 299.4915\\\\\n",
       "\t 2013     & 1        & 1        & 9E       &  11      &  43      &  213     & 297.2093\\\\\n",
       "\t 2013     & 1        & 1        & 9E       & 255      & 115      &  589     & 307.3043\\\\\n",
       "\t 2013     & 1        & 1        & AA       &   2      & 160      & 1089     & 408.3750\\\\\n",
       "\t 2013     & 1        & 1        & AA       &  -2      & 138      &  733     & 318.6957\\\\\n",
       "\t ⋮ & ⋮ & ⋮ & ⋮ & ⋮ & ⋮ & ⋮ & ⋮\\\\\n",
       "\t 2013     & 1        & 1        & VX       &  0       & 362      & 2475     & 410.2210\\\\\n",
       "\t 2013     & 1        & 1        & VX       &  0       & 364      & 2586     & 426.2637\\\\\n",
       "\t 2013     & 1        & 1        & VX       & -8       & 349      & 2475     & 425.5014\\\\\n",
       "\t 2013     & 1        & 1        & WN       & -1       &  40      &  185     & 277.5000\\\\\n",
       "\t 2013     & 1        & 1        & WN       & -1       & 279      & 1620     & 348.3871\\\\\n",
       "\t 2013     & 1        & 1        & WN       & -3       & 146      &  711     & 292.1918\\\\\n",
       "\t 2013     & 1        & 1        & WN       &  4       & 264      & 1605     & 364.7727\\\\\n",
       "\t 2013     & 1        & 1        & WN       & -2       & 145      &  725     & 300.0000\\\\\n",
       "\t 2013     & 1        & 1        & WN       & -3       & 143      &  738     & 309.6503\\\\\n",
       "\t 2013     & 1        & 1        & WN       & -1       &  43      &  185     & 258.1395\\\\\n",
       "\t 2013     & 1        & 1        & WN       & -5       & 176      &  888     & 302.7273\\\\\n",
       "\t 2013     & 1        & 1        & WN       & -2       &  38      &  169     & 266.8421\\\\\n",
       "\t 2013     & 1        & 1        & WN       &  0       & 142      &  711     & 300.4225\\\\\n",
       "\t 2013     & 1        & 1        & WN       & -2       & 137      &  738     & 323.2117\\\\\n",
       "\t 2013     & 1        & 1        & WN       &  0       & 264      & 1620     & 368.1818\\\\\n",
       "\t 2013     & 1        & 1        & WN       &  6       & 239      & 1411     & 354.2259\\\\\n",
       "\t 2013     & 1        & 1        & WN       & 16       & 334      & 2133     & 383.1737\\\\\n",
       "\t 2013     & 1        & 1        & WN       &  5       & 141      &  725     & 308.5106\\\\\n",
       "\t 2013     & 1        & 1        & WN       & -4       & 141      &  711     & 302.5532\\\\\n",
       "\t 2013     & 1        & 1        & WN       & 16       & 133      &  738     & 332.9323\\\\\n",
       "\t 2013     & 1        & 1        & WN       &  3       & 254      & 1605     & 379.1339\\\\\n",
       "\t 2013     & 1        & 1        & WN       & -3       & 181      &  888     & 294.3646\\\\\n",
       "\t 2013     & 1        & 1        & WN       &  7       & 181      &  872     & 289.0608\\\\\n",
       "\t 2013     & 1        & 1        & WN       &  8       & 245      & 1411     & 345.5510\\\\\n",
       "\t 2013     & 1        & 1        & WN       & -1       & 137      &  725     & 317.5182\\\\\n",
       "\t 2013     & 1        & 1        & WN       &  6       & 148      &  711     & 288.2432\\\\\n",
       "\t 2013     & 1        & 1        & WN       & 10       &  46      &  185     & 241.3043\\\\\n",
       "\t 2013     & 1        & 1        & WN       & -2       & 131      &  738     & 338.0153\\\\\n",
       "\t 2013     & 1        & 1        & WN       & 31       & 134      &  711     & 318.3582\\\\\n",
       "\t 2013     & 1        & 1        & WN       & -2       & 134      &  725     & 324.6269\\\\\n",
       "\\end{tabular}\n"
      ],
      "text/markdown": [
       "\n",
       "year | month | day | carrier | dep_delay | air_time | distance | speed | \n",
       "|---|---|---|---|---|---|---|---|---|---|---|---|---|---|---|---|---|---|---|---|---|---|---|---|---|---|---|---|---|---|---|---|---|---|---|---|---|---|---|---|---|---|---|---|---|---|---|---|---|---|---|---|---|---|---|---|---|---|---|---|---|\n",
       "| 2013     | 1        | 1        | 9E       |   0      | 189      | 1029     | 326.6667 | \n",
       "| 2013     | 1        | 1        | 9E       |  -9      |  57      |  228     | 240.0000 | \n",
       "| 2013     | 1        | 1        | 9E       |  -3      |  68      |  301     | 265.5882 | \n",
       "| 2013     | 1        | 1        | 9E       |  -6      |  57      |  209     | 220.0000 | \n",
       "| 2013     | 1        | 1        | 9E       |  -8      |  66      |  264     | 240.0000 | \n",
       "| 2013     | 1        | 1        | 9E       |   0      |  40      |  184     | 276.0000 | \n",
       "| 2013     | 1        | 1        | 9E       |   6      | 146      |  740     | 304.1096 | \n",
       "| 2013     | 1        | 1        | 9E       |   0      | 139      |  665     | 287.0504 | \n",
       "| 2013     | 1        | 1        | 9E       |  -8      | 150      |  765     | 306.0000 | \n",
       "| 2013     | 1        | 1        | 9E       |  -6      |  41      |  187     | 273.6585 | \n",
       "| 2013     | 1        | 1        | 9E       | -10      |  35      |   94     | 161.1429 | \n",
       "| 2013     | 1        | 1        | 9E       |  52      | 173      | 1029     | 356.8786 | \n",
       "| 2013     | 1        | 1        | 9E       |  88      |  72      |  427     | 355.8333 | \n",
       "| 2013     | 1        | 1        | 9E       |  -4      | 107      |  509     | 285.4206 | \n",
       "| 2013     | 1        | 1        | 9E       |  -3      | 106      |  636     | 360.0000 | \n",
       "| 2013     | 1        | 1        | 9E       |   0      | 207      | 1182     | 342.6087 | \n",
       "| 2013     | 1        | 1        | 9E       |   0      | 141      |  740     | 314.8936 | \n",
       "| 2013     | 1        | 1        | 9E       |  -2      |  75      |  427     | 341.6000 | \n",
       "| 2013     | 1        | 1        | 9E       |  59      |  NA      | 1391     |       NA | \n",
       "| 2013     | 1        | 1        | 9E       |   5      | 129      |  828     | 385.1163 | \n",
       "| 2013     | 1        | 1        | 9E       |  -5      |  76      |  340     | 268.4211 | \n",
       "| 2013     | 1        | 1        | 9E       |  -8      |  41      |  184     | 269.2683 | \n",
       "| 2013     | 1        | 1        | 9E       |   0      |  30      |   94     | 188.0000 | \n",
       "| 2013     | 1        | 1        | 9E       |  10      |  62      |  301     | 291.2903 | \n",
       "| 2013     | 1        | 1        | 9E       |  42      |  91      |  425     | 280.2198 | \n",
       "| 2013     | 1        | 1        | 9E       |  38      | 118      |  589     | 299.4915 | \n",
       "| 2013     | 1        | 1        | 9E       |  11      |  43      |  213     | 297.2093 | \n",
       "| 2013     | 1        | 1        | 9E       | 255      | 115      |  589     | 307.3043 | \n",
       "| 2013     | 1        | 1        | AA       |   2      | 160      | 1089     | 408.3750 | \n",
       "| 2013     | 1        | 1        | AA       |  -2      | 138      |  733     | 318.6957 | \n",
       "| ⋮ | ⋮ | ⋮ | ⋮ | ⋮ | ⋮ | ⋮ | ⋮ | \n",
       "| 2013     | 1        | 1        | VX       |  0       | 362      | 2475     | 410.2210 | \n",
       "| 2013     | 1        | 1        | VX       |  0       | 364      | 2586     | 426.2637 | \n",
       "| 2013     | 1        | 1        | VX       | -8       | 349      | 2475     | 425.5014 | \n",
       "| 2013     | 1        | 1        | WN       | -1       |  40      |  185     | 277.5000 | \n",
       "| 2013     | 1        | 1        | WN       | -1       | 279      | 1620     | 348.3871 | \n",
       "| 2013     | 1        | 1        | WN       | -3       | 146      |  711     | 292.1918 | \n",
       "| 2013     | 1        | 1        | WN       |  4       | 264      | 1605     | 364.7727 | \n",
       "| 2013     | 1        | 1        | WN       | -2       | 145      |  725     | 300.0000 | \n",
       "| 2013     | 1        | 1        | WN       | -3       | 143      |  738     | 309.6503 | \n",
       "| 2013     | 1        | 1        | WN       | -1       |  43      |  185     | 258.1395 | \n",
       "| 2013     | 1        | 1        | WN       | -5       | 176      |  888     | 302.7273 | \n",
       "| 2013     | 1        | 1        | WN       | -2       |  38      |  169     | 266.8421 | \n",
       "| 2013     | 1        | 1        | WN       |  0       | 142      |  711     | 300.4225 | \n",
       "| 2013     | 1        | 1        | WN       | -2       | 137      |  738     | 323.2117 | \n",
       "| 2013     | 1        | 1        | WN       |  0       | 264      | 1620     | 368.1818 | \n",
       "| 2013     | 1        | 1        | WN       |  6       | 239      | 1411     | 354.2259 | \n",
       "| 2013     | 1        | 1        | WN       | 16       | 334      | 2133     | 383.1737 | \n",
       "| 2013     | 1        | 1        | WN       |  5       | 141      |  725     | 308.5106 | \n",
       "| 2013     | 1        | 1        | WN       | -4       | 141      |  711     | 302.5532 | \n",
       "| 2013     | 1        | 1        | WN       | 16       | 133      |  738     | 332.9323 | \n",
       "| 2013     | 1        | 1        | WN       |  3       | 254      | 1605     | 379.1339 | \n",
       "| 2013     | 1        | 1        | WN       | -3       | 181      |  888     | 294.3646 | \n",
       "| 2013     | 1        | 1        | WN       |  7       | 181      |  872     | 289.0608 | \n",
       "| 2013     | 1        | 1        | WN       |  8       | 245      | 1411     | 345.5510 | \n",
       "| 2013     | 1        | 1        | WN       | -1       | 137      |  725     | 317.5182 | \n",
       "| 2013     | 1        | 1        | WN       |  6       | 148      |  711     | 288.2432 | \n",
       "| 2013     | 1        | 1        | WN       | 10       |  46      |  185     | 241.3043 | \n",
       "| 2013     | 1        | 1        | WN       | -2       | 131      |  738     | 338.0153 | \n",
       "| 2013     | 1        | 1        | WN       | 31       | 134      |  711     | 318.3582 | \n",
       "| 2013     | 1        | 1        | WN       | -2       | 134      |  725     | 324.6269 | \n",
       "\n",
       "\n"
      ],
      "text/plain": [
       "    year month day carrier dep_delay air_time distance speed   \n",
       "1   2013 1     1   9E        0       189      1029     326.6667\n",
       "2   2013 1     1   9E       -9        57       228     240.0000\n",
       "3   2013 1     1   9E       -3        68       301     265.5882\n",
       "4   2013 1     1   9E       -6        57       209     220.0000\n",
       "5   2013 1     1   9E       -8        66       264     240.0000\n",
       "6   2013 1     1   9E        0        40       184     276.0000\n",
       "7   2013 1     1   9E        6       146       740     304.1096\n",
       "8   2013 1     1   9E        0       139       665     287.0504\n",
       "9   2013 1     1   9E       -8       150       765     306.0000\n",
       "10  2013 1     1   9E       -6        41       187     273.6585\n",
       "11  2013 1     1   9E      -10        35        94     161.1429\n",
       "12  2013 1     1   9E       52       173      1029     356.8786\n",
       "13  2013 1     1   9E       88        72       427     355.8333\n",
       "14  2013 1     1   9E       -4       107       509     285.4206\n",
       "15  2013 1     1   9E       -3       106       636     360.0000\n",
       "16  2013 1     1   9E        0       207      1182     342.6087\n",
       "17  2013 1     1   9E        0       141       740     314.8936\n",
       "18  2013 1     1   9E       -2        75       427     341.6000\n",
       "19  2013 1     1   9E       59        NA      1391           NA\n",
       "20  2013 1     1   9E        5       129       828     385.1163\n",
       "21  2013 1     1   9E       -5        76       340     268.4211\n",
       "22  2013 1     1   9E       -8        41       184     269.2683\n",
       "23  2013 1     1   9E        0        30        94     188.0000\n",
       "24  2013 1     1   9E       10        62       301     291.2903\n",
       "25  2013 1     1   9E       42        91       425     280.2198\n",
       "26  2013 1     1   9E       38       118       589     299.4915\n",
       "27  2013 1     1   9E       11        43       213     297.2093\n",
       "28  2013 1     1   9E      255       115       589     307.3043\n",
       "29  2013 1     1   AA        2       160      1089     408.3750\n",
       "30  2013 1     1   AA       -2       138       733     318.6957\n",
       "⋮   ⋮    ⋮     ⋮   ⋮       ⋮         ⋮        ⋮        ⋮       \n",
       "813 2013 1     1   VX       0        362      2475     410.2210\n",
       "814 2013 1     1   VX       0        364      2586     426.2637\n",
       "815 2013 1     1   VX      -8        349      2475     425.5014\n",
       "816 2013 1     1   WN      -1         40       185     277.5000\n",
       "817 2013 1     1   WN      -1        279      1620     348.3871\n",
       "818 2013 1     1   WN      -3        146       711     292.1918\n",
       "819 2013 1     1   WN       4        264      1605     364.7727\n",
       "820 2013 1     1   WN      -2        145       725     300.0000\n",
       "821 2013 1     1   WN      -3        143       738     309.6503\n",
       "822 2013 1     1   WN      -1         43       185     258.1395\n",
       "823 2013 1     1   WN      -5        176       888     302.7273\n",
       "824 2013 1     1   WN      -2         38       169     266.8421\n",
       "825 2013 1     1   WN       0        142       711     300.4225\n",
       "826 2013 1     1   WN      -2        137       738     323.2117\n",
       "827 2013 1     1   WN       0        264      1620     368.1818\n",
       "828 2013 1     1   WN       6        239      1411     354.2259\n",
       "829 2013 1     1   WN      16        334      2133     383.1737\n",
       "830 2013 1     1   WN       5        141       725     308.5106\n",
       "831 2013 1     1   WN      -4        141       711     302.5532\n",
       "832 2013 1     1   WN      16        133       738     332.9323\n",
       "833 2013 1     1   WN       3        254      1605     379.1339\n",
       "834 2013 1     1   WN      -3        181       888     294.3646\n",
       "835 2013 1     1   WN       7        181       872     289.0608\n",
       "836 2013 1     1   WN       8        245      1411     345.5510\n",
       "837 2013 1     1   WN      -1        137       725     317.5182\n",
       "838 2013 1     1   WN       6        148       711     288.2432\n",
       "839 2013 1     1   WN      10         46       185     241.3043\n",
       "840 2013 1     1   WN      -2        131       738     338.0153\n",
       "841 2013 1     1   WN      31        134       711     318.3582\n",
       "842 2013 1     1   WN      -2        134       725     324.6269"
      ]
     },
     "metadata": {},
     "output_type": "display_data"
    }
   ],
   "source": [
    "collect(c4)"
   ]
  },
  {
   "cell_type": "code",
   "execution_count": 16,
   "metadata": {
    "collapsed": false
   },
   "outputs": [
    {
     "data": {
      "text/plain": [
       "NULL"
      ]
     },
     "metadata": {},
     "output_type": "display_data"
    }
   ],
   "source": [
    "c4$query"
   ]
  },
  {
   "cell_type": "code",
   "execution_count": 17,
   "metadata": {
    "collapsed": false,
    "scrolled": true
   },
   "outputs": [
    {
     "name": "stderr",
     "output_type": "stream",
     "text": [
      "<SQL>\n",
      "SELECT *\n",
      "FROM (SELECT `year`, `month`, `day`, `carrier`, `dep_delay`, `air_time`, `distance`, `distance` / `air_time` * 60.0 AS `speed`\n",
      "FROM (SELECT `year` AS `year`, `month` AS `month`, `day` AS `day`, `carrier` AS `carrier`, `dep_delay` AS `dep_delay`, `air_time` AS `air_time`, `distance` AS `distance`\n",
      "FROM (SELECT *\n",
      "FROM `flights`\n",
      "WHERE ((`year` = 2013.0) AND (`month` = 1.0) AND (`day` = 1.0)))))\n",
      "ORDER BY `year`, `month`, `day`, `carrier`\n",
      "\n",
      "\n",
      "<PLAN>\n",
      "   addr       opcode p1    p2 p3           p4 p5 comment\n",
      "1     0         Init  0    56  0              00      NA\n",
      "2     1   SorterOpen  4     9  0       k(1,B) 00      NA\n",
      "3     2     OpenRead  3   131  0           19 00      NA\n",
      "4     3     OpenRead  5 22656  0     k(4,,,,) 02      NA\n",
      "5     4         Real  0     1  0         2013 00      NA\n",
      "6     5         Real  0     2  0            1 00      NA\n",
      "7     6         Real  0     3  0            1 00      NA\n",
      "8     7     Affinity  1     3  0          DDD 00      NA\n",
      "9     8       SeekGE  5    36  1            3 00      NA\n",
      "10    9        IdxGT  5    36  1            3 00      NA\n",
      "11   10         Seek  5     0  3              00      NA\n",
      "12   11       Column  5     0  8              00      NA\n",
      "13   12       Column  5     1  9              00      NA\n",
      "14   13       Column  5     2 10              00      NA\n",
      "15   14       Column  3     9 11              00      NA\n",
      "16   15       Column  3     5 12              00      NA\n",
      "17   16 RealAffinity 12     0  0              00      NA\n",
      "18   17       Column  3    14 13              00      NA\n",
      "19   18 RealAffinity 13     0  0              00      NA\n",
      "20   19       Column  3    15 14              00      NA\n",
      "21   20 RealAffinity 14     0  0              00      NA\n",
      "22   21       Divide 13    14 16              00      NA\n",
      "23   22     Multiply 18    16 15              00      NA\n",
      "24   23         Copy  8     4  0              00      NA\n",
      "25   24         Copy  9     5  0              00      NA\n",
      "26   25         Copy 10     6  0              00      NA\n",
      "27   26         Copy 11     7  0              00      NA\n",
      "28   27   MakeRecord  7     9 19              00      NA\n",
      "29   28 SequenceTest  4    33  0              00      NA\n",
      "30   29      Compare 20     4  3 k(4,B,B,B,B) 00      NA\n",
      "31   30         Jump 31    34 31              00      NA\n",
      "32   31        Gosub 23    40  0              00      NA\n",
      "33   32  ResetSorter  4     0  0              00      NA\n",
      "34   33         Move  4    20  3              00      NA\n",
      "35   34 SorterInsert  4    19  0              00      NA\n",
      "36   35         Next  5     9  1              00      NA\n",
      "37   36        Close  3     0  0              00      NA\n",
      "38   37        Close  5     0  0              00      NA\n",
      "39   38        Gosub 23    40  0              00      NA\n",
      "40   39         Goto  0    55  0              00      NA\n",
      "41   40         Once  0    42  0              00      NA\n",
      "42   41   OpenPseudo  6    24 10              00      NA\n",
      "43   42   SorterSort  4    55  0              00      NA\n",
      "44   43   SorterData  4    24  6              00      NA\n",
      "45   44       Column  6     1  8              00      NA\n",
      "46   45       Column  6     2  9              00      NA\n",
      "47   46       Column  6     3 10              00      NA\n",
      "48   47       Column  6     4 11              00      NA\n",
      "49   48       Column  6     5 12              00      NA\n",
      "50   49       Column  6     6 13              00      NA\n",
      "51   50       Column  6     7 14              00      NA\n",
      "52   51       Column  6     8 15              00      NA\n",
      "53   52    ResultRow  8     8  0              00      NA\n",
      "54   53   SorterNext  4    43  0              00      NA\n",
      "55   54       Return 23     0  0              00      NA\n",
      "56   55         Halt  0     0  0              00      NA\n",
      "57   56  Transaction  0     0 16            0 01      NA\n",
      "58   57    TableLock  0   131  0      flights 00      NA\n",
      "59   58         Real  0    18  0           60 00      NA\n",
      "60   59         Goto  0     1  0              00      NA\n"
     ]
    }
   ],
   "source": [
    "explain(c4)"
   ]
  },
  {
   "cell_type": "markdown",
   "metadata": {},
   "source": [
    "### Forcing computation"
   ]
  },
  {
   "cell_type": "code",
   "execution_count": 18,
   "metadata": {
    "collapsed": false
   },
   "outputs": [
    {
     "data": {
      "text/plain": [
       "NULL"
      ]
     },
     "metadata": {},
     "output_type": "display_data"
    }
   ],
   "source": [
    "c1$query"
   ]
  },
  {
   "cell_type": "code",
   "execution_count": 19,
   "metadata": {
    "collapsed": false
   },
   "outputs": [
    {
     "data": {
      "text/plain": [
       "Source:   query [?? x 19]\n",
       "Database: sqlite 3.11.1 [/tmp/Rtmp7xv2vF/nycflights13.sqlite]\n",
       "\n",
       "    year month   day dep_time sched_dep_time dep_delay arr_time sched_arr_time\n",
       "   <int> <int> <int>    <int>          <int>     <dbl>    <int>          <int>\n",
       "1   2013     1     1      517            515         2      830            819\n",
       "2   2013     1     1      533            529         4      850            830\n",
       "3   2013     1     1      542            540         2      923            850\n",
       "4   2013     1     1      544            545        -1     1004           1022\n",
       "5   2013     1     1      554            600        -6      812            837\n",
       "6   2013     1     1      554            558        -4      740            728\n",
       "7   2013     1     1      555            600        -5      913            854\n",
       "8   2013     1     1      557            600        -3      709            723\n",
       "9   2013     1     1      557            600        -3      838            846\n",
       "10  2013     1     1      558            600        -2      753            745\n",
       "# ... with more rows, and 11 more variables: arr_delay <dbl>, carrier <chr>,\n",
       "#   flight <int>, tailnum <chr>, origin <chr>, dest <chr>, air_time <dbl>,\n",
       "#   distance <dbl>, hour <dbl>, minute <dbl>, time_hour <dbl>"
      ]
     },
     "metadata": {},
     "output_type": "display_data"
    }
   ],
   "source": [
    "compute(c1)"
   ]
  },
  {
   "cell_type": "code",
   "execution_count": 20,
   "metadata": {
    "collapsed": false,
    "scrolled": true
   },
   "outputs": [
    {
     "data": {
      "text/html": [
       "<table>\n",
       "<thead><tr><th scope=col>year</th><th scope=col>month</th><th scope=col>day</th><th scope=col>dep_time</th><th scope=col>sched_dep_time</th><th scope=col>dep_delay</th><th scope=col>arr_time</th><th scope=col>sched_arr_time</th><th scope=col>arr_delay</th><th scope=col>carrier</th><th scope=col>flight</th><th scope=col>tailnum</th><th scope=col>origin</th><th scope=col>dest</th><th scope=col>air_time</th><th scope=col>distance</th><th scope=col>hour</th><th scope=col>minute</th><th scope=col>time_hour</th></tr></thead>\n",
       "<tbody>\n",
       "\t<tr><td>2013      </td><td>1         </td><td>1         </td><td>517       </td><td>515       </td><td> 2        </td><td> 830      </td><td> 819      </td><td> 11       </td><td>UA        </td><td>1545      </td><td>N14228    </td><td>EWR       </td><td>IAH       </td><td>227       </td><td>1400      </td><td>5         </td><td>15        </td><td>1357016400</td></tr>\n",
       "\t<tr><td>2013      </td><td>1         </td><td>1         </td><td>533       </td><td>529       </td><td> 4        </td><td> 850      </td><td> 830      </td><td> 20       </td><td>UA        </td><td>1714      </td><td>N24211    </td><td>LGA       </td><td>IAH       </td><td>227       </td><td>1416      </td><td>5         </td><td>29        </td><td>1357016400</td></tr>\n",
       "\t<tr><td>2013      </td><td>1         </td><td>1         </td><td>542       </td><td>540       </td><td> 2        </td><td> 923      </td><td> 850      </td><td> 33       </td><td>AA        </td><td>1141      </td><td>N619AA    </td><td>JFK       </td><td>MIA       </td><td>160       </td><td>1089      </td><td>5         </td><td>40        </td><td>1357016400</td></tr>\n",
       "\t<tr><td>2013      </td><td>1         </td><td>1         </td><td>544       </td><td>545       </td><td>-1        </td><td>1004      </td><td>1022      </td><td>-18       </td><td>B6        </td><td> 725      </td><td>N804JB    </td><td>JFK       </td><td>BQN       </td><td>183       </td><td>1576      </td><td>5         </td><td>45        </td><td>1357016400</td></tr>\n",
       "\t<tr><td>2013      </td><td>1         </td><td>1         </td><td>554       </td><td>600       </td><td>-6        </td><td> 812      </td><td> 837      </td><td>-25       </td><td>DL        </td><td> 461      </td><td>N668DN    </td><td>LGA       </td><td>ATL       </td><td>116       </td><td> 762      </td><td>6         </td><td> 0        </td><td>1357020000</td></tr>\n",
       "\t<tr><td>2013      </td><td>1         </td><td>1         </td><td>554       </td><td>558       </td><td>-4        </td><td> 740      </td><td> 728      </td><td> 12       </td><td>UA        </td><td>1696      </td><td>N39463    </td><td>EWR       </td><td>ORD       </td><td>150       </td><td> 719      </td><td>5         </td><td>58        </td><td>1357016400</td></tr>\n",
       "\t<tr><td>2013      </td><td>1         </td><td>1         </td><td>555       </td><td>600       </td><td>-5        </td><td> 913      </td><td> 854      </td><td> 19       </td><td>B6        </td><td> 507      </td><td>N516JB    </td><td>EWR       </td><td>FLL       </td><td>158       </td><td>1065      </td><td>6         </td><td> 0        </td><td>1357020000</td></tr>\n",
       "\t<tr><td>2013      </td><td>1         </td><td>1         </td><td>557       </td><td>600       </td><td>-3        </td><td> 709      </td><td> 723      </td><td>-14       </td><td>EV        </td><td>5708      </td><td>N829AS    </td><td>LGA       </td><td>IAD       </td><td> 53       </td><td> 229      </td><td>6         </td><td> 0        </td><td>1357020000</td></tr>\n",
       "\t<tr><td>2013      </td><td>1         </td><td>1         </td><td>557       </td><td>600       </td><td>-3        </td><td> 838      </td><td> 846      </td><td> -8       </td><td>B6        </td><td>  79      </td><td>N593JB    </td><td>JFK       </td><td>MCO       </td><td>140       </td><td> 944      </td><td>6         </td><td> 0        </td><td>1357020000</td></tr>\n",
       "\t<tr><td>2013      </td><td>1         </td><td>1         </td><td>558       </td><td>600       </td><td>-2        </td><td> 753      </td><td> 745      </td><td>  8       </td><td>AA        </td><td> 301      </td><td>N3ALAA    </td><td>LGA       </td><td>ORD       </td><td>138       </td><td> 733      </td><td>6         </td><td> 0        </td><td>1357020000</td></tr>\n",
       "\t<tr><td>2013      </td><td>1         </td><td>1         </td><td>558       </td><td>600       </td><td>-2        </td><td> 849      </td><td> 851      </td><td> -2       </td><td>B6        </td><td>  49      </td><td>N793JB    </td><td>JFK       </td><td>PBI       </td><td>149       </td><td>1028      </td><td>6         </td><td> 0        </td><td>1357020000</td></tr>\n",
       "\t<tr><td>2013      </td><td>1         </td><td>1         </td><td>558       </td><td>600       </td><td>-2        </td><td> 853      </td><td> 856      </td><td> -3       </td><td>B6        </td><td>  71      </td><td>N657JB    </td><td>JFK       </td><td>TPA       </td><td>158       </td><td>1005      </td><td>6         </td><td> 0        </td><td>1357020000</td></tr>\n",
       "\t<tr><td>2013      </td><td>1         </td><td>1         </td><td>558       </td><td>600       </td><td>-2        </td><td> 924      </td><td> 917      </td><td>  7       </td><td>UA        </td><td> 194      </td><td>N29129    </td><td>JFK       </td><td>LAX       </td><td>345       </td><td>2475      </td><td>6         </td><td> 0        </td><td>1357020000</td></tr>\n",
       "\t<tr><td>2013      </td><td>1         </td><td>1         </td><td>558       </td><td>600       </td><td>-2        </td><td> 923      </td><td> 937      </td><td>-14       </td><td>UA        </td><td>1124      </td><td>N53441    </td><td>EWR       </td><td>SFO       </td><td>361       </td><td>2565      </td><td>6         </td><td> 0        </td><td>1357020000</td></tr>\n",
       "\t<tr><td>2013      </td><td>1         </td><td>1         </td><td>559       </td><td>600       </td><td>-1        </td><td> 941      </td><td> 910      </td><td> 31       </td><td>AA        </td><td> 707      </td><td>N3DUAA    </td><td>LGA       </td><td>DFW       </td><td>257       </td><td>1389      </td><td>6         </td><td> 0        </td><td>1357020000</td></tr>\n",
       "\t<tr><td>2013      </td><td>1         </td><td>1         </td><td>559       </td><td>559       </td><td> 0        </td><td> 702      </td><td> 706      </td><td> -4       </td><td>B6        </td><td>1806      </td><td>N708JB    </td><td>JFK       </td><td>BOS       </td><td> 44       </td><td> 187      </td><td>5         </td><td>59        </td><td>1357016400</td></tr>\n",
       "\t<tr><td>2013      </td><td>1         </td><td>1         </td><td>559       </td><td>600       </td><td>-1        </td><td> 854      </td><td> 902      </td><td> -8       </td><td>UA        </td><td>1187      </td><td>N76515    </td><td>EWR       </td><td>LAS       </td><td>337       </td><td>2227      </td><td>6         </td><td> 0        </td><td>1357020000</td></tr>\n",
       "\t<tr><td>2013      </td><td>1         </td><td>1         </td><td>600       </td><td>600       </td><td> 0        </td><td> 851      </td><td> 858      </td><td> -7       </td><td>B6        </td><td> 371      </td><td>N595JB    </td><td>LGA       </td><td>FLL       </td><td>152       </td><td>1076      </td><td>6         </td><td> 0        </td><td>1357020000</td></tr>\n",
       "\t<tr><td>2013      </td><td>1         </td><td>1         </td><td>600       </td><td>600       </td><td> 0        </td><td> 837      </td><td> 825      </td><td> 12       </td><td>MQ        </td><td>4650      </td><td>N542MQ    </td><td>LGA       </td><td>ATL       </td><td>134       </td><td> 762      </td><td>6         </td><td> 0        </td><td>1357020000</td></tr>\n",
       "\t<tr><td>2013      </td><td>1         </td><td>1         </td><td>601       </td><td>600       </td><td> 1        </td><td> 844      </td><td> 850      </td><td> -6       </td><td>B6        </td><td> 343      </td><td>N644JB    </td><td>EWR       </td><td>PBI       </td><td>147       </td><td>1023      </td><td>6         </td><td> 0        </td><td>1357020000</td></tr>\n",
       "\t<tr><td>2013      </td><td>1         </td><td>1         </td><td>602       </td><td>610       </td><td>-8        </td><td> 812      </td><td> 820      </td><td> -8       </td><td>DL        </td><td>1919      </td><td>N971DL    </td><td>LGA       </td><td>MSP       </td><td>170       </td><td>1020      </td><td>6         </td><td>10        </td><td>1357020000</td></tr>\n",
       "\t<tr><td>2013      </td><td>1         </td><td>1         </td><td>602       </td><td>605       </td><td>-3        </td><td> 821      </td><td> 805      </td><td> 16       </td><td>MQ        </td><td>4401      </td><td>N730MQ    </td><td>LGA       </td><td>DTW       </td><td>105       </td><td> 502      </td><td>6         </td><td> 5        </td><td>1357020000</td></tr>\n",
       "\t<tr><td>2013      </td><td>1         </td><td>1         </td><td>606       </td><td>610       </td><td>-4        </td><td> 858      </td><td> 910      </td><td>-12       </td><td>AA        </td><td>1895      </td><td>N633AA    </td><td>EWR       </td><td>MIA       </td><td>152       </td><td>1085      </td><td>6         </td><td>10        </td><td>1357020000</td></tr>\n",
       "\t<tr><td>2013      </td><td>1         </td><td>1         </td><td>606       </td><td>610       </td><td>-4        </td><td> 837      </td><td> 845      </td><td> -8       </td><td>DL        </td><td>1743      </td><td>N3739P    </td><td>JFK       </td><td>ATL       </td><td>128       </td><td> 760      </td><td>6         </td><td>10        </td><td>1357020000</td></tr>\n",
       "\t<tr><td>2013      </td><td>1         </td><td>1         </td><td>607       </td><td>607       </td><td> 0        </td><td> 858      </td><td> 915      </td><td>-17       </td><td>UA        </td><td>1077      </td><td>N53442    </td><td>EWR       </td><td>MIA       </td><td>157       </td><td>1085      </td><td>6         </td><td> 7        </td><td>1357020000</td></tr>\n",
       "\t<tr><td>2013      </td><td>1         </td><td>1         </td><td>608       </td><td>600       </td><td> 8        </td><td> 807      </td><td> 735      </td><td> 32       </td><td>MQ        </td><td>3768      </td><td>N9EAMQ    </td><td>EWR       </td><td>ORD       </td><td>139       </td><td> 719      </td><td>6         </td><td> 0        </td><td>1357020000</td></tr>\n",
       "\t<tr><td>2013      </td><td>1         </td><td>1         </td><td>611       </td><td>600       </td><td>11        </td><td> 945      </td><td> 931      </td><td> 14       </td><td>UA        </td><td> 303      </td><td>N532UA    </td><td>JFK       </td><td>SFO       </td><td>366       </td><td>2586      </td><td>6         </td><td> 0        </td><td>1357020000</td></tr>\n",
       "\t<tr><td>2013      </td><td>1         </td><td>1         </td><td>613       </td><td>610       </td><td> 3        </td><td> 925      </td><td> 921      </td><td>  4       </td><td>B6        </td><td> 135      </td><td>N635JB    </td><td>JFK       </td><td>RSW       </td><td>175       </td><td>1074      </td><td>6         </td><td>10        </td><td>1357020000</td></tr>\n",
       "\t<tr><td>2013      </td><td>1         </td><td>1         </td><td>615       </td><td>615       </td><td> 0        </td><td>1039      </td><td>1100      </td><td>-21       </td><td>B6        </td><td> 709      </td><td>N794JB    </td><td>JFK       </td><td>SJU       </td><td>182       </td><td>1598      </td><td>6         </td><td>15        </td><td>1357020000</td></tr>\n",
       "\t<tr><td>2013      </td><td>1         </td><td>1         </td><td>615       </td><td>615       </td><td> 0        </td><td> 833      </td><td> 842      </td><td> -9       </td><td>DL        </td><td> 575      </td><td>N326NB    </td><td>EWR       </td><td>ATL       </td><td>120       </td><td> 746      </td><td>6         </td><td>15        </td><td>1357020000</td></tr>\n",
       "\t<tr><td>⋮</td><td>⋮</td><td>⋮</td><td>⋮</td><td>⋮</td><td>⋮</td><td>⋮</td><td>⋮</td><td>⋮</td><td>⋮</td><td>⋮</td><td>⋮</td><td>⋮</td><td>⋮</td><td>⋮</td><td>⋮</td><td>⋮</td><td>⋮</td><td>⋮</td></tr>\n",
       "\t<tr><td>2013      </td><td>1         </td><td>1         </td><td>2140      </td><td>2135      </td><td>  5       </td><td> 210      </td><td> 224      </td><td>-14       </td><td>B6        </td><td> 701      </td><td>N284JB    </td><td>JFK       </td><td>SJU       </td><td>189       </td><td>1598      </td><td>21        </td><td>35        </td><td>1357074000</td></tr>\n",
       "\t<tr><td>2013      </td><td>1         </td><td>1         </td><td>2157      </td><td>2155      </td><td>  2       </td><td>  43      </td><td>  41      </td><td>  2       </td><td>B6        </td><td>  43      </td><td>N537JB    </td><td>JFK       </td><td>MCO       </td><td>140       </td><td> 944      </td><td>21        </td><td>55        </td><td>1357074000</td></tr>\n",
       "\t<tr><td>2013      </td><td>1         </td><td>1         </td><td>2158      </td><td>2200      </td><td> -2       </td><td>2254      </td><td>2307      </td><td>-13       </td><td>EV        </td><td>4103      </td><td>N14998    </td><td>EWR       </td><td>BWI       </td><td> 36       </td><td> 169      </td><td>22        </td><td> 0        </td><td>1357077600</td></tr>\n",
       "\t<tr><td>2013      </td><td>1         </td><td>1         </td><td>2205      </td><td>1720      </td><td>285       </td><td>  46      </td><td>2040      </td><td>246       </td><td>AA        </td><td>1999      </td><td>N5DNAA    </td><td>EWR       </td><td>MIA       </td><td>146       </td><td>1085      </td><td>17        </td><td>20        </td><td>1357059600</td></tr>\n",
       "\t<tr><td>2013      </td><td>1         </td><td>1         </td><td>2209      </td><td>2145      </td><td> 24       </td><td>  58      </td><td>  37      </td><td> 21       </td><td>B6        </td><td>  35      </td><td>N608JB    </td><td>JFK       </td><td>PBI       </td><td>143       </td><td>1028      </td><td>21        </td><td>45        </td><td>1357074000</td></tr>\n",
       "\t<tr><td>2013      </td><td>1         </td><td>1         </td><td>2209      </td><td>2155      </td><td> 14       </td><td>2400      </td><td>2337      </td><td> 23       </td><td>B6        </td><td>1109      </td><td>N216JB    </td><td>JFK       </td><td>RDU       </td><td> 86       </td><td> 427      </td><td>21        </td><td>55        </td><td>1357074000</td></tr>\n",
       "\t<tr><td>2013      </td><td>1         </td><td>1         </td><td>2211      </td><td>2145      </td><td> 26       </td><td>2339      </td><td>2311      </td><td> 28       </td><td>B6        </td><td> 104      </td><td>N228JB    </td><td>JFK       </td><td>BUF       </td><td> 64       </td><td> 301      </td><td>21        </td><td>45        </td><td>1357074000</td></tr>\n",
       "\t<tr><td>2013      </td><td>1         </td><td>1         </td><td>2217      </td><td>2229      </td><td>-12       </td><td> 249      </td><td> 315      </td><td>-26       </td><td>B6        </td><td> 713      </td><td>N547JB    </td><td>JFK       </td><td>SJU       </td><td>191       </td><td>1598      </td><td>22        </td><td>29        </td><td>1357077600</td></tr>\n",
       "\t<tr><td>2013      </td><td>1         </td><td>1         </td><td>2217      </td><td>2130      </td><td> 47       </td><td> 140      </td><td>  27      </td><td> 73       </td><td>B6        </td><td>  21      </td><td>N516JB    </td><td>JFK       </td><td>TPA       </td><td>163       </td><td>1005      </td><td>21        </td><td>30        </td><td>1357074000</td></tr>\n",
       "\t<tr><td>2013      </td><td>1         </td><td>1         </td><td>2221      </td><td>2000      </td><td>141       </td><td>2331      </td><td>2124      </td><td>127       </td><td>EV        </td><td>4462      </td><td>N13566    </td><td>EWR       </td><td>BUF       </td><td> 56       </td><td> 282      </td><td>20        </td><td> 0        </td><td>1357070400</td></tr>\n",
       "\t<tr><td>2013      </td><td>1         </td><td>1         </td><td>2224      </td><td>2200      </td><td> 24       </td><td>2324      </td><td>2316      </td><td>  8       </td><td>EV        </td><td>4206      </td><td>N16561    </td><td>EWR       </td><td>PWM       </td><td> 47       </td><td> 284      </td><td>22        </td><td> 0        </td><td>1357077600</td></tr>\n",
       "\t<tr><td>2013      </td><td>1         </td><td>1         </td><td>2229      </td><td>2159      </td><td> 30       </td><td> 149      </td><td> 100      </td><td> 49       </td><td>B6        </td><td>  11      </td><td>N531JB    </td><td>JFK       </td><td>FLL       </td><td>153       </td><td>1069      </td><td>21        </td><td>59        </td><td>1357074000</td></tr>\n",
       "\t<tr><td>2013      </td><td>1         </td><td>1         </td><td>2240      </td><td>2245      </td><td> -5       </td><td>2340      </td><td>2356      </td><td>-16       </td><td>B6        </td><td> 608      </td><td>N279JB    </td><td>JFK       </td><td>PWM       </td><td> 44       </td><td> 273      </td><td>22        </td><td>45        </td><td>1357077600</td></tr>\n",
       "\t<tr><td>2013      </td><td>1         </td><td>1         </td><td>2250      </td><td>2255      </td><td> -5       </td><td>2352      </td><td>2359      </td><td> -7       </td><td>B6        </td><td>1018      </td><td>N521JB    </td><td>JFK       </td><td>BOS       </td><td> 37       </td><td> 187      </td><td>22        </td><td>55        </td><td>1357077600</td></tr>\n",
       "\t<tr><td>2013      </td><td>1         </td><td>1         </td><td>2302      </td><td>2200      </td><td> 62       </td><td>2342      </td><td>2253      </td><td> 49       </td><td>EV        </td><td>4276      </td><td>N13903    </td><td>EWR       </td><td>BDL       </td><td> 24       </td><td> 116      </td><td>22        </td><td> 0        </td><td>1357077600</td></tr>\n",
       "\t<tr><td>2013      </td><td>1         </td><td>1         </td><td>2306      </td><td>2245      </td><td> 21       </td><td>  28      </td><td>   5      </td><td> 23       </td><td>B6        </td><td>  30      </td><td>N281JB    </td><td>JFK       </td><td>ROC       </td><td> 59       </td><td> 264      </td><td>22        </td><td>45        </td><td>1357077600</td></tr>\n",
       "\t<tr><td>2013      </td><td>1         </td><td>1         </td><td>2307      </td><td>2245      </td><td> 22       </td><td>  32      </td><td>2357      </td><td> 35       </td><td>B6        </td><td> 128      </td><td>N178JB    </td><td>JFK       </td><td>BTV       </td><td> 59       </td><td> 266      </td><td>22        </td><td>45        </td><td>1357077600</td></tr>\n",
       "\t<tr><td>2013      </td><td>1         </td><td>1         </td><td>2310      </td><td>2255      </td><td> 15       </td><td>  24      </td><td>  15      </td><td>  9       </td><td>B6        </td><td> 112      </td><td>N646JB    </td><td>JFK       </td><td>BUF       </td><td> 57       </td><td> 301      </td><td>22        </td><td>55        </td><td>1357077600</td></tr>\n",
       "\t<tr><td>2013      </td><td>1         </td><td>1         </td><td>2312      </td><td>2000      </td><td>192       </td><td>  21      </td><td>2110      </td><td>191       </td><td>EV        </td><td>4312      </td><td>N13958    </td><td>EWR       </td><td>DCA       </td><td> 44       </td><td> 199      </td><td>20        </td><td> 0        </td><td>1357070400</td></tr>\n",
       "\t<tr><td>2013      </td><td>1         </td><td>1         </td><td>2323      </td><td>2200      </td><td> 83       </td><td>  22      </td><td>2313      </td><td> 69       </td><td>EV        </td><td>4257      </td><td>N13538    </td><td>EWR       </td><td>BTV       </td><td> 44       </td><td> 266      </td><td>22        </td><td> 0        </td><td>1357077600</td></tr>\n",
       "\t<tr><td>2013      </td><td>1         </td><td>1         </td><td>2326      </td><td>2130      </td><td>116       </td><td> 131      </td><td>  18      </td><td> 73       </td><td>B6        </td><td> 199      </td><td>N594JB    </td><td>JFK       </td><td>LAS       </td><td>290       </td><td>2248      </td><td>21        </td><td>30        </td><td>1357074000</td></tr>\n",
       "\t<tr><td>2013      </td><td>1         </td><td>1         </td><td>2327      </td><td>2250      </td><td> 37       </td><td>  32      </td><td>2359      </td><td> 33       </td><td>B6        </td><td>  22      </td><td>N639JB    </td><td>JFK       </td><td>SYR       </td><td> 45       </td><td> 209      </td><td>22        </td><td>50        </td><td>1357077600</td></tr>\n",
       "\t<tr><td>2013      </td><td>1         </td><td>1         </td><td>2343      </td><td>1724      </td><td>379       </td><td> 314      </td><td>1938      </td><td>456       </td><td>EV        </td><td>4321      </td><td>N21197    </td><td>EWR       </td><td>MCI       </td><td>222       </td><td>1092      </td><td>17        </td><td>24        </td><td>1357059600</td></tr>\n",
       "\t<tr><td>2013      </td><td>1         </td><td>1         </td><td>2353      </td><td>2359      </td><td> -6       </td><td> 425      </td><td> 445      </td><td>-20       </td><td>B6        </td><td> 739      </td><td>N591JB    </td><td>JFK       </td><td>PSE       </td><td>195       </td><td>1617      </td><td>23        </td><td>59        </td><td>1357081200</td></tr>\n",
       "\t<tr><td>2013      </td><td>1         </td><td>1         </td><td>2353      </td><td>2359      </td><td> -6       </td><td> 418      </td><td> 442      </td><td>-24       </td><td>B6        </td><td> 707      </td><td>N794JB    </td><td>JFK       </td><td>SJU       </td><td>185       </td><td>1598      </td><td>23        </td><td>59        </td><td>1357081200</td></tr>\n",
       "\t<tr><td>2013      </td><td>1         </td><td>1         </td><td>2356      </td><td>2359      </td><td> -3       </td><td> 425      </td><td> 437      </td><td>-12       </td><td>B6        </td><td> 727      </td><td>N588JB    </td><td>JFK       </td><td>BQN       </td><td>186       </td><td>1576      </td><td>23        </td><td>59        </td><td>1357081200</td></tr>\n",
       "\t<tr><td>2013      </td><td>1         </td><td>1         </td><td>  NA      </td><td>1630      </td><td> NA       </td><td>  NA      </td><td>1815      </td><td> NA       </td><td>EV        </td><td>4308      </td><td>N18120    </td><td>EWR       </td><td>RDU       </td><td> NA       </td><td> 416      </td><td>16        </td><td>30        </td><td>1357056000</td></tr>\n",
       "\t<tr><td>2013      </td><td>1         </td><td>1         </td><td>  NA      </td><td>1935      </td><td> NA       </td><td>  NA      </td><td>2240      </td><td> NA       </td><td>AA        </td><td> 791      </td><td>N3EHAA    </td><td>LGA       </td><td>DFW       </td><td> NA       </td><td>1389      </td><td>19        </td><td>35        </td><td>1357066800</td></tr>\n",
       "\t<tr><td>2013      </td><td>1         </td><td>1         </td><td>  NA      </td><td>1500      </td><td> NA       </td><td>  NA      </td><td>1825      </td><td> NA       </td><td>AA        </td><td>1925      </td><td>N3EVAA    </td><td>LGA       </td><td>MIA       </td><td> NA       </td><td>1096      </td><td>15        </td><td> 0        </td><td>1357052400</td></tr>\n",
       "\t<tr><td>2013      </td><td>1         </td><td>1         </td><td>  NA      </td><td> 600      </td><td> NA       </td><td>  NA      </td><td> 901      </td><td> NA       </td><td>B6        </td><td> 125      </td><td>N618JB    </td><td>JFK       </td><td>FLL       </td><td> NA       </td><td>1069      </td><td> 6        </td><td> 0        </td><td>1357020000</td></tr>\n",
       "</tbody>\n",
       "</table>\n"
      ],
      "text/latex": [
       "\\begin{tabular}{r|lllllllllllllllllll}\n",
       " year & month & day & dep\\_time & sched\\_dep\\_time & dep\\_delay & arr\\_time & sched\\_arr\\_time & arr\\_delay & carrier & flight & tailnum & origin & dest & air\\_time & distance & hour & minute & time\\_hour\\\\\n",
       "\\hline\n",
       "\t 2013       & 1          & 1          & 517        & 515        &  2         &  830       &  819       &  11        & UA         & 1545       & N14228     & EWR        & IAH        & 227        & 1400       & 5          & 15         & 1357016400\\\\\n",
       "\t 2013       & 1          & 1          & 533        & 529        &  4         &  850       &  830       &  20        & UA         & 1714       & N24211     & LGA        & IAH        & 227        & 1416       & 5          & 29         & 1357016400\\\\\n",
       "\t 2013       & 1          & 1          & 542        & 540        &  2         &  923       &  850       &  33        & AA         & 1141       & N619AA     & JFK        & MIA        & 160        & 1089       & 5          & 40         & 1357016400\\\\\n",
       "\t 2013       & 1          & 1          & 544        & 545        & -1         & 1004       & 1022       & -18        & B6         &  725       & N804JB     & JFK        & BQN        & 183        & 1576       & 5          & 45         & 1357016400\\\\\n",
       "\t 2013       & 1          & 1          & 554        & 600        & -6         &  812       &  837       & -25        & DL         &  461       & N668DN     & LGA        & ATL        & 116        &  762       & 6          &  0         & 1357020000\\\\\n",
       "\t 2013       & 1          & 1          & 554        & 558        & -4         &  740       &  728       &  12        & UA         & 1696       & N39463     & EWR        & ORD        & 150        &  719       & 5          & 58         & 1357016400\\\\\n",
       "\t 2013       & 1          & 1          & 555        & 600        & -5         &  913       &  854       &  19        & B6         &  507       & N516JB     & EWR        & FLL        & 158        & 1065       & 6          &  0         & 1357020000\\\\\n",
       "\t 2013       & 1          & 1          & 557        & 600        & -3         &  709       &  723       & -14        & EV         & 5708       & N829AS     & LGA        & IAD        &  53        &  229       & 6          &  0         & 1357020000\\\\\n",
       "\t 2013       & 1          & 1          & 557        & 600        & -3         &  838       &  846       &  -8        & B6         &   79       & N593JB     & JFK        & MCO        & 140        &  944       & 6          &  0         & 1357020000\\\\\n",
       "\t 2013       & 1          & 1          & 558        & 600        & -2         &  753       &  745       &   8        & AA         &  301       & N3ALAA     & LGA        & ORD        & 138        &  733       & 6          &  0         & 1357020000\\\\\n",
       "\t 2013       & 1          & 1          & 558        & 600        & -2         &  849       &  851       &  -2        & B6         &   49       & N793JB     & JFK        & PBI        & 149        & 1028       & 6          &  0         & 1357020000\\\\\n",
       "\t 2013       & 1          & 1          & 558        & 600        & -2         &  853       &  856       &  -3        & B6         &   71       & N657JB     & JFK        & TPA        & 158        & 1005       & 6          &  0         & 1357020000\\\\\n",
       "\t 2013       & 1          & 1          & 558        & 600        & -2         &  924       &  917       &   7        & UA         &  194       & N29129     & JFK        & LAX        & 345        & 2475       & 6          &  0         & 1357020000\\\\\n",
       "\t 2013       & 1          & 1          & 558        & 600        & -2         &  923       &  937       & -14        & UA         & 1124       & N53441     & EWR        & SFO        & 361        & 2565       & 6          &  0         & 1357020000\\\\\n",
       "\t 2013       & 1          & 1          & 559        & 600        & -1         &  941       &  910       &  31        & AA         &  707       & N3DUAA     & LGA        & DFW        & 257        & 1389       & 6          &  0         & 1357020000\\\\\n",
       "\t 2013       & 1          & 1          & 559        & 559        &  0         &  702       &  706       &  -4        & B6         & 1806       & N708JB     & JFK        & BOS        &  44        &  187       & 5          & 59         & 1357016400\\\\\n",
       "\t 2013       & 1          & 1          & 559        & 600        & -1         &  854       &  902       &  -8        & UA         & 1187       & N76515     & EWR        & LAS        & 337        & 2227       & 6          &  0         & 1357020000\\\\\n",
       "\t 2013       & 1          & 1          & 600        & 600        &  0         &  851       &  858       &  -7        & B6         &  371       & N595JB     & LGA        & FLL        & 152        & 1076       & 6          &  0         & 1357020000\\\\\n",
       "\t 2013       & 1          & 1          & 600        & 600        &  0         &  837       &  825       &  12        & MQ         & 4650       & N542MQ     & LGA        & ATL        & 134        &  762       & 6          &  0         & 1357020000\\\\\n",
       "\t 2013       & 1          & 1          & 601        & 600        &  1         &  844       &  850       &  -6        & B6         &  343       & N644JB     & EWR        & PBI        & 147        & 1023       & 6          &  0         & 1357020000\\\\\n",
       "\t 2013       & 1          & 1          & 602        & 610        & -8         &  812       &  820       &  -8        & DL         & 1919       & N971DL     & LGA        & MSP        & 170        & 1020       & 6          & 10         & 1357020000\\\\\n",
       "\t 2013       & 1          & 1          & 602        & 605        & -3         &  821       &  805       &  16        & MQ         & 4401       & N730MQ     & LGA        & DTW        & 105        &  502       & 6          &  5         & 1357020000\\\\\n",
       "\t 2013       & 1          & 1          & 606        & 610        & -4         &  858       &  910       & -12        & AA         & 1895       & N633AA     & EWR        & MIA        & 152        & 1085       & 6          & 10         & 1357020000\\\\\n",
       "\t 2013       & 1          & 1          & 606        & 610        & -4         &  837       &  845       &  -8        & DL         & 1743       & N3739P     & JFK        & ATL        & 128        &  760       & 6          & 10         & 1357020000\\\\\n",
       "\t 2013       & 1          & 1          & 607        & 607        &  0         &  858       &  915       & -17        & UA         & 1077       & N53442     & EWR        & MIA        & 157        & 1085       & 6          &  7         & 1357020000\\\\\n",
       "\t 2013       & 1          & 1          & 608        & 600        &  8         &  807       &  735       &  32        & MQ         & 3768       & N9EAMQ     & EWR        & ORD        & 139        &  719       & 6          &  0         & 1357020000\\\\\n",
       "\t 2013       & 1          & 1          & 611        & 600        & 11         &  945       &  931       &  14        & UA         &  303       & N532UA     & JFK        & SFO        & 366        & 2586       & 6          &  0         & 1357020000\\\\\n",
       "\t 2013       & 1          & 1          & 613        & 610        &  3         &  925       &  921       &   4        & B6         &  135       & N635JB     & JFK        & RSW        & 175        & 1074       & 6          & 10         & 1357020000\\\\\n",
       "\t 2013       & 1          & 1          & 615        & 615        &  0         & 1039       & 1100       & -21        & B6         &  709       & N794JB     & JFK        & SJU        & 182        & 1598       & 6          & 15         & 1357020000\\\\\n",
       "\t 2013       & 1          & 1          & 615        & 615        &  0         &  833       &  842       &  -9        & DL         &  575       & N326NB     & EWR        & ATL        & 120        &  746       & 6          & 15         & 1357020000\\\\\n",
       "\t ⋮ & ⋮ & ⋮ & ⋮ & ⋮ & ⋮ & ⋮ & ⋮ & ⋮ & ⋮ & ⋮ & ⋮ & ⋮ & ⋮ & ⋮ & ⋮ & ⋮ & ⋮ & ⋮\\\\\n",
       "\t 2013       & 1          & 1          & 2140       & 2135       &   5        &  210       &  224       & -14        & B6         &  701       & N284JB     & JFK        & SJU        & 189        & 1598       & 21         & 35         & 1357074000\\\\\n",
       "\t 2013       & 1          & 1          & 2157       & 2155       &   2        &   43       &   41       &   2        & B6         &   43       & N537JB     & JFK        & MCO        & 140        &  944       & 21         & 55         & 1357074000\\\\\n",
       "\t 2013       & 1          & 1          & 2158       & 2200       &  -2        & 2254       & 2307       & -13        & EV         & 4103       & N14998     & EWR        & BWI        &  36        &  169       & 22         &  0         & 1357077600\\\\\n",
       "\t 2013       & 1          & 1          & 2205       & 1720       & 285        &   46       & 2040       & 246        & AA         & 1999       & N5DNAA     & EWR        & MIA        & 146        & 1085       & 17         & 20         & 1357059600\\\\\n",
       "\t 2013       & 1          & 1          & 2209       & 2145       &  24        &   58       &   37       &  21        & B6         &   35       & N608JB     & JFK        & PBI        & 143        & 1028       & 21         & 45         & 1357074000\\\\\n",
       "\t 2013       & 1          & 1          & 2209       & 2155       &  14        & 2400       & 2337       &  23        & B6         & 1109       & N216JB     & JFK        & RDU        &  86        &  427       & 21         & 55         & 1357074000\\\\\n",
       "\t 2013       & 1          & 1          & 2211       & 2145       &  26        & 2339       & 2311       &  28        & B6         &  104       & N228JB     & JFK        & BUF        &  64        &  301       & 21         & 45         & 1357074000\\\\\n",
       "\t 2013       & 1          & 1          & 2217       & 2229       & -12        &  249       &  315       & -26        & B6         &  713       & N547JB     & JFK        & SJU        & 191        & 1598       & 22         & 29         & 1357077600\\\\\n",
       "\t 2013       & 1          & 1          & 2217       & 2130       &  47        &  140       &   27       &  73        & B6         &   21       & N516JB     & JFK        & TPA        & 163        & 1005       & 21         & 30         & 1357074000\\\\\n",
       "\t 2013       & 1          & 1          & 2221       & 2000       & 141        & 2331       & 2124       & 127        & EV         & 4462       & N13566     & EWR        & BUF        &  56        &  282       & 20         &  0         & 1357070400\\\\\n",
       "\t 2013       & 1          & 1          & 2224       & 2200       &  24        & 2324       & 2316       &   8        & EV         & 4206       & N16561     & EWR        & PWM        &  47        &  284       & 22         &  0         & 1357077600\\\\\n",
       "\t 2013       & 1          & 1          & 2229       & 2159       &  30        &  149       &  100       &  49        & B6         &   11       & N531JB     & JFK        & FLL        & 153        & 1069       & 21         & 59         & 1357074000\\\\\n",
       "\t 2013       & 1          & 1          & 2240       & 2245       &  -5        & 2340       & 2356       & -16        & B6         &  608       & N279JB     & JFK        & PWM        &  44        &  273       & 22         & 45         & 1357077600\\\\\n",
       "\t 2013       & 1          & 1          & 2250       & 2255       &  -5        & 2352       & 2359       &  -7        & B6         & 1018       & N521JB     & JFK        & BOS        &  37        &  187       & 22         & 55         & 1357077600\\\\\n",
       "\t 2013       & 1          & 1          & 2302       & 2200       &  62        & 2342       & 2253       &  49        & EV         & 4276       & N13903     & EWR        & BDL        &  24        &  116       & 22         &  0         & 1357077600\\\\\n",
       "\t 2013       & 1          & 1          & 2306       & 2245       &  21        &   28       &    5       &  23        & B6         &   30       & N281JB     & JFK        & ROC        &  59        &  264       & 22         & 45         & 1357077600\\\\\n",
       "\t 2013       & 1          & 1          & 2307       & 2245       &  22        &   32       & 2357       &  35        & B6         &  128       & N178JB     & JFK        & BTV        &  59        &  266       & 22         & 45         & 1357077600\\\\\n",
       "\t 2013       & 1          & 1          & 2310       & 2255       &  15        &   24       &   15       &   9        & B6         &  112       & N646JB     & JFK        & BUF        &  57        &  301       & 22         & 55         & 1357077600\\\\\n",
       "\t 2013       & 1          & 1          & 2312       & 2000       & 192        &   21       & 2110       & 191        & EV         & 4312       & N13958     & EWR        & DCA        &  44        &  199       & 20         &  0         & 1357070400\\\\\n",
       "\t 2013       & 1          & 1          & 2323       & 2200       &  83        &   22       & 2313       &  69        & EV         & 4257       & N13538     & EWR        & BTV        &  44        &  266       & 22         &  0         & 1357077600\\\\\n",
       "\t 2013       & 1          & 1          & 2326       & 2130       & 116        &  131       &   18       &  73        & B6         &  199       & N594JB     & JFK        & LAS        & 290        & 2248       & 21         & 30         & 1357074000\\\\\n",
       "\t 2013       & 1          & 1          & 2327       & 2250       &  37        &   32       & 2359       &  33        & B6         &   22       & N639JB     & JFK        & SYR        &  45        &  209       & 22         & 50         & 1357077600\\\\\n",
       "\t 2013       & 1          & 1          & 2343       & 1724       & 379        &  314       & 1938       & 456        & EV         & 4321       & N21197     & EWR        & MCI        & 222        & 1092       & 17         & 24         & 1357059600\\\\\n",
       "\t 2013       & 1          & 1          & 2353       & 2359       &  -6        &  425       &  445       & -20        & B6         &  739       & N591JB     & JFK        & PSE        & 195        & 1617       & 23         & 59         & 1357081200\\\\\n",
       "\t 2013       & 1          & 1          & 2353       & 2359       &  -6        &  418       &  442       & -24        & B6         &  707       & N794JB     & JFK        & SJU        & 185        & 1598       & 23         & 59         & 1357081200\\\\\n",
       "\t 2013       & 1          & 1          & 2356       & 2359       &  -3        &  425       &  437       & -12        & B6         &  727       & N588JB     & JFK        & BQN        & 186        & 1576       & 23         & 59         & 1357081200\\\\\n",
       "\t 2013       & 1          & 1          &   NA       & 1630       &  NA        &   NA       & 1815       &  NA        & EV         & 4308       & N18120     & EWR        & RDU        &  NA        &  416       & 16         & 30         & 1357056000\\\\\n",
       "\t 2013       & 1          & 1          &   NA       & 1935       &  NA        &   NA       & 2240       &  NA        & AA         &  791       & N3EHAA     & LGA        & DFW        &  NA        & 1389       & 19         & 35         & 1357066800\\\\\n",
       "\t 2013       & 1          & 1          &   NA       & 1500       &  NA        &   NA       & 1825       &  NA        & AA         & 1925       & N3EVAA     & LGA        & MIA        &  NA        & 1096       & 15         &  0         & 1357052400\\\\\n",
       "\t 2013       & 1          & 1          &   NA       &  600       &  NA        &   NA       &  901       &  NA        & B6         &  125       & N618JB     & JFK        & FLL        &  NA        & 1069       &  6         &  0         & 1357020000\\\\\n",
       "\\end{tabular}\n"
      ],
      "text/markdown": [
       "\n",
       "year | month | day | dep_time | sched_dep_time | dep_delay | arr_time | sched_arr_time | arr_delay | carrier | flight | tailnum | origin | dest | air_time | distance | hour | minute | time_hour | \n",
       "|---|---|---|---|---|---|---|---|---|---|---|---|---|---|---|---|---|---|---|---|---|---|---|---|---|---|---|---|---|---|---|---|---|---|---|---|---|---|---|---|---|---|---|---|---|---|---|---|---|---|---|---|---|---|---|---|---|---|---|---|---|\n",
       "| 2013       | 1          | 1          | 517        | 515        |  2         |  830       |  819       |  11        | UA         | 1545       | N14228     | EWR        | IAH        | 227        | 1400       | 5          | 15         | 1357016400 | \n",
       "| 2013       | 1          | 1          | 533        | 529        |  4         |  850       |  830       |  20        | UA         | 1714       | N24211     | LGA        | IAH        | 227        | 1416       | 5          | 29         | 1357016400 | \n",
       "| 2013       | 1          | 1          | 542        | 540        |  2         |  923       |  850       |  33        | AA         | 1141       | N619AA     | JFK        | MIA        | 160        | 1089       | 5          | 40         | 1357016400 | \n",
       "| 2013       | 1          | 1          | 544        | 545        | -1         | 1004       | 1022       | -18        | B6         |  725       | N804JB     | JFK        | BQN        | 183        | 1576       | 5          | 45         | 1357016400 | \n",
       "| 2013       | 1          | 1          | 554        | 600        | -6         |  812       |  837       | -25        | DL         |  461       | N668DN     | LGA        | ATL        | 116        |  762       | 6          |  0         | 1357020000 | \n",
       "| 2013       | 1          | 1          | 554        | 558        | -4         |  740       |  728       |  12        | UA         | 1696       | N39463     | EWR        | ORD        | 150        |  719       | 5          | 58         | 1357016400 | \n",
       "| 2013       | 1          | 1          | 555        | 600        | -5         |  913       |  854       |  19        | B6         |  507       | N516JB     | EWR        | FLL        | 158        | 1065       | 6          |  0         | 1357020000 | \n",
       "| 2013       | 1          | 1          | 557        | 600        | -3         |  709       |  723       | -14        | EV         | 5708       | N829AS     | LGA        | IAD        |  53        |  229       | 6          |  0         | 1357020000 | \n",
       "| 2013       | 1          | 1          | 557        | 600        | -3         |  838       |  846       |  -8        | B6         |   79       | N593JB     | JFK        | MCO        | 140        |  944       | 6          |  0         | 1357020000 | \n",
       "| 2013       | 1          | 1          | 558        | 600        | -2         |  753       |  745       |   8        | AA         |  301       | N3ALAA     | LGA        | ORD        | 138        |  733       | 6          |  0         | 1357020000 | \n",
       "| 2013       | 1          | 1          | 558        | 600        | -2         |  849       |  851       |  -2        | B6         |   49       | N793JB     | JFK        | PBI        | 149        | 1028       | 6          |  0         | 1357020000 | \n",
       "| 2013       | 1          | 1          | 558        | 600        | -2         |  853       |  856       |  -3        | B6         |   71       | N657JB     | JFK        | TPA        | 158        | 1005       | 6          |  0         | 1357020000 | \n",
       "| 2013       | 1          | 1          | 558        | 600        | -2         |  924       |  917       |   7        | UA         |  194       | N29129     | JFK        | LAX        | 345        | 2475       | 6          |  0         | 1357020000 | \n",
       "| 2013       | 1          | 1          | 558        | 600        | -2         |  923       |  937       | -14        | UA         | 1124       | N53441     | EWR        | SFO        | 361        | 2565       | 6          |  0         | 1357020000 | \n",
       "| 2013       | 1          | 1          | 559        | 600        | -1         |  941       |  910       |  31        | AA         |  707       | N3DUAA     | LGA        | DFW        | 257        | 1389       | 6          |  0         | 1357020000 | \n",
       "| 2013       | 1          | 1          | 559        | 559        |  0         |  702       |  706       |  -4        | B6         | 1806       | N708JB     | JFK        | BOS        |  44        |  187       | 5          | 59         | 1357016400 | \n",
       "| 2013       | 1          | 1          | 559        | 600        | -1         |  854       |  902       |  -8        | UA         | 1187       | N76515     | EWR        | LAS        | 337        | 2227       | 6          |  0         | 1357020000 | \n",
       "| 2013       | 1          | 1          | 600        | 600        |  0         |  851       |  858       |  -7        | B6         |  371       | N595JB     | LGA        | FLL        | 152        | 1076       | 6          |  0         | 1357020000 | \n",
       "| 2013       | 1          | 1          | 600        | 600        |  0         |  837       |  825       |  12        | MQ         | 4650       | N542MQ     | LGA        | ATL        | 134        |  762       | 6          |  0         | 1357020000 | \n",
       "| 2013       | 1          | 1          | 601        | 600        |  1         |  844       |  850       |  -6        | B6         |  343       | N644JB     | EWR        | PBI        | 147        | 1023       | 6          |  0         | 1357020000 | \n",
       "| 2013       | 1          | 1          | 602        | 610        | -8         |  812       |  820       |  -8        | DL         | 1919       | N971DL     | LGA        | MSP        | 170        | 1020       | 6          | 10         | 1357020000 | \n",
       "| 2013       | 1          | 1          | 602        | 605        | -3         |  821       |  805       |  16        | MQ         | 4401       | N730MQ     | LGA        | DTW        | 105        |  502       | 6          |  5         | 1357020000 | \n",
       "| 2013       | 1          | 1          | 606        | 610        | -4         |  858       |  910       | -12        | AA         | 1895       | N633AA     | EWR        | MIA        | 152        | 1085       | 6          | 10         | 1357020000 | \n",
       "| 2013       | 1          | 1          | 606        | 610        | -4         |  837       |  845       |  -8        | DL         | 1743       | N3739P     | JFK        | ATL        | 128        |  760       | 6          | 10         | 1357020000 | \n",
       "| 2013       | 1          | 1          | 607        | 607        |  0         |  858       |  915       | -17        | UA         | 1077       | N53442     | EWR        | MIA        | 157        | 1085       | 6          |  7         | 1357020000 | \n",
       "| 2013       | 1          | 1          | 608        | 600        |  8         |  807       |  735       |  32        | MQ         | 3768       | N9EAMQ     | EWR        | ORD        | 139        |  719       | 6          |  0         | 1357020000 | \n",
       "| 2013       | 1          | 1          | 611        | 600        | 11         |  945       |  931       |  14        | UA         |  303       | N532UA     | JFK        | SFO        | 366        | 2586       | 6          |  0         | 1357020000 | \n",
       "| 2013       | 1          | 1          | 613        | 610        |  3         |  925       |  921       |   4        | B6         |  135       | N635JB     | JFK        | RSW        | 175        | 1074       | 6          | 10         | 1357020000 | \n",
       "| 2013       | 1          | 1          | 615        | 615        |  0         | 1039       | 1100       | -21        | B6         |  709       | N794JB     | JFK        | SJU        | 182        | 1598       | 6          | 15         | 1357020000 | \n",
       "| 2013       | 1          | 1          | 615        | 615        |  0         |  833       |  842       |  -9        | DL         |  575       | N326NB     | EWR        | ATL        | 120        |  746       | 6          | 15         | 1357020000 | \n",
       "| ⋮ | ⋮ | ⋮ | ⋮ | ⋮ | ⋮ | ⋮ | ⋮ | ⋮ | ⋮ | ⋮ | ⋮ | ⋮ | ⋮ | ⋮ | ⋮ | ⋮ | ⋮ | ⋮ | \n",
       "| 2013       | 1          | 1          | 2140       | 2135       |   5        |  210       |  224       | -14        | B6         |  701       | N284JB     | JFK        | SJU        | 189        | 1598       | 21         | 35         | 1357074000 | \n",
       "| 2013       | 1          | 1          | 2157       | 2155       |   2        |   43       |   41       |   2        | B6         |   43       | N537JB     | JFK        | MCO        | 140        |  944       | 21         | 55         | 1357074000 | \n",
       "| 2013       | 1          | 1          | 2158       | 2200       |  -2        | 2254       | 2307       | -13        | EV         | 4103       | N14998     | EWR        | BWI        |  36        |  169       | 22         |  0         | 1357077600 | \n",
       "| 2013       | 1          | 1          | 2205       | 1720       | 285        |   46       | 2040       | 246        | AA         | 1999       | N5DNAA     | EWR        | MIA        | 146        | 1085       | 17         | 20         | 1357059600 | \n",
       "| 2013       | 1          | 1          | 2209       | 2145       |  24        |   58       |   37       |  21        | B6         |   35       | N608JB     | JFK        | PBI        | 143        | 1028       | 21         | 45         | 1357074000 | \n",
       "| 2013       | 1          | 1          | 2209       | 2155       |  14        | 2400       | 2337       |  23        | B6         | 1109       | N216JB     | JFK        | RDU        |  86        |  427       | 21         | 55         | 1357074000 | \n",
       "| 2013       | 1          | 1          | 2211       | 2145       |  26        | 2339       | 2311       |  28        | B6         |  104       | N228JB     | JFK        | BUF        |  64        |  301       | 21         | 45         | 1357074000 | \n",
       "| 2013       | 1          | 1          | 2217       | 2229       | -12        |  249       |  315       | -26        | B6         |  713       | N547JB     | JFK        | SJU        | 191        | 1598       | 22         | 29         | 1357077600 | \n",
       "| 2013       | 1          | 1          | 2217       | 2130       |  47        |  140       |   27       |  73        | B6         |   21       | N516JB     | JFK        | TPA        | 163        | 1005       | 21         | 30         | 1357074000 | \n",
       "| 2013       | 1          | 1          | 2221       | 2000       | 141        | 2331       | 2124       | 127        | EV         | 4462       | N13566     | EWR        | BUF        |  56        |  282       | 20         |  0         | 1357070400 | \n",
       "| 2013       | 1          | 1          | 2224       | 2200       |  24        | 2324       | 2316       |   8        | EV         | 4206       | N16561     | EWR        | PWM        |  47        |  284       | 22         |  0         | 1357077600 | \n",
       "| 2013       | 1          | 1          | 2229       | 2159       |  30        |  149       |  100       |  49        | B6         |   11       | N531JB     | JFK        | FLL        | 153        | 1069       | 21         | 59         | 1357074000 | \n",
       "| 2013       | 1          | 1          | 2240       | 2245       |  -5        | 2340       | 2356       | -16        | B6         |  608       | N279JB     | JFK        | PWM        |  44        |  273       | 22         | 45         | 1357077600 | \n",
       "| 2013       | 1          | 1          | 2250       | 2255       |  -5        | 2352       | 2359       |  -7        | B6         | 1018       | N521JB     | JFK        | BOS        |  37        |  187       | 22         | 55         | 1357077600 | \n",
       "| 2013       | 1          | 1          | 2302       | 2200       |  62        | 2342       | 2253       |  49        | EV         | 4276       | N13903     | EWR        | BDL        |  24        |  116       | 22         |  0         | 1357077600 | \n",
       "| 2013       | 1          | 1          | 2306       | 2245       |  21        |   28       |    5       |  23        | B6         |   30       | N281JB     | JFK        | ROC        |  59        |  264       | 22         | 45         | 1357077600 | \n",
       "| 2013       | 1          | 1          | 2307       | 2245       |  22        |   32       | 2357       |  35        | B6         |  128       | N178JB     | JFK        | BTV        |  59        |  266       | 22         | 45         | 1357077600 | \n",
       "| 2013       | 1          | 1          | 2310       | 2255       |  15        |   24       |   15       |   9        | B6         |  112       | N646JB     | JFK        | BUF        |  57        |  301       | 22         | 55         | 1357077600 | \n",
       "| 2013       | 1          | 1          | 2312       | 2000       | 192        |   21       | 2110       | 191        | EV         | 4312       | N13958     | EWR        | DCA        |  44        |  199       | 20         |  0         | 1357070400 | \n",
       "| 2013       | 1          | 1          | 2323       | 2200       |  83        |   22       | 2313       |  69        | EV         | 4257       | N13538     | EWR        | BTV        |  44        |  266       | 22         |  0         | 1357077600 | \n",
       "| 2013       | 1          | 1          | 2326       | 2130       | 116        |  131       |   18       |  73        | B6         |  199       | N594JB     | JFK        | LAS        | 290        | 2248       | 21         | 30         | 1357074000 | \n",
       "| 2013       | 1          | 1          | 2327       | 2250       |  37        |   32       | 2359       |  33        | B6         |   22       | N639JB     | JFK        | SYR        |  45        |  209       | 22         | 50         | 1357077600 | \n",
       "| 2013       | 1          | 1          | 2343       | 1724       | 379        |  314       | 1938       | 456        | EV         | 4321       | N21197     | EWR        | MCI        | 222        | 1092       | 17         | 24         | 1357059600 | \n",
       "| 2013       | 1          | 1          | 2353       | 2359       |  -6        |  425       |  445       | -20        | B6         |  739       | N591JB     | JFK        | PSE        | 195        | 1617       | 23         | 59         | 1357081200 | \n",
       "| 2013       | 1          | 1          | 2353       | 2359       |  -6        |  418       |  442       | -24        | B6         |  707       | N794JB     | JFK        | SJU        | 185        | 1598       | 23         | 59         | 1357081200 | \n",
       "| 2013       | 1          | 1          | 2356       | 2359       |  -3        |  425       |  437       | -12        | B6         |  727       | N588JB     | JFK        | BQN        | 186        | 1576       | 23         | 59         | 1357081200 | \n",
       "| 2013       | 1          | 1          |   NA       | 1630       |  NA        |   NA       | 1815       |  NA        | EV         | 4308       | N18120     | EWR        | RDU        |  NA        |  416       | 16         | 30         | 1357056000 | \n",
       "| 2013       | 1          | 1          |   NA       | 1935       |  NA        |   NA       | 2240       |  NA        | AA         |  791       | N3EHAA     | LGA        | DFW        |  NA        | 1389       | 19         | 35         | 1357066800 | \n",
       "| 2013       | 1          | 1          |   NA       | 1500       |  NA        |   NA       | 1825       |  NA        | AA         | 1925       | N3EVAA     | LGA        | MIA        |  NA        | 1096       | 15         |  0         | 1357052400 | \n",
       "| 2013       | 1          | 1          |   NA       |  600       |  NA        |   NA       |  901       |  NA        | B6         |  125       | N618JB     | JFK        | FLL        |  NA        | 1069       |  6         |  0         | 1357020000 | \n",
       "\n",
       "\n"
      ],
      "text/plain": [
       "    year month day dep_time sched_dep_time dep_delay arr_time sched_arr_time\n",
       "1   2013 1     1   517      515             2         830      819          \n",
       "2   2013 1     1   533      529             4         850      830          \n",
       "3   2013 1     1   542      540             2         923      850          \n",
       "4   2013 1     1   544      545            -1        1004     1022          \n",
       "5   2013 1     1   554      600            -6         812      837          \n",
       "6   2013 1     1   554      558            -4         740      728          \n",
       "7   2013 1     1   555      600            -5         913      854          \n",
       "8   2013 1     1   557      600            -3         709      723          \n",
       "9   2013 1     1   557      600            -3         838      846          \n",
       "10  2013 1     1   558      600            -2         753      745          \n",
       "11  2013 1     1   558      600            -2         849      851          \n",
       "12  2013 1     1   558      600            -2         853      856          \n",
       "13  2013 1     1   558      600            -2         924      917          \n",
       "14  2013 1     1   558      600            -2         923      937          \n",
       "15  2013 1     1   559      600            -1         941      910          \n",
       "16  2013 1     1   559      559             0         702      706          \n",
       "17  2013 1     1   559      600            -1         854      902          \n",
       "18  2013 1     1   600      600             0         851      858          \n",
       "19  2013 1     1   600      600             0         837      825          \n",
       "20  2013 1     1   601      600             1         844      850          \n",
       "21  2013 1     1   602      610            -8         812      820          \n",
       "22  2013 1     1   602      605            -3         821      805          \n",
       "23  2013 1     1   606      610            -4         858      910          \n",
       "24  2013 1     1   606      610            -4         837      845          \n",
       "25  2013 1     1   607      607             0         858      915          \n",
       "26  2013 1     1   608      600             8         807      735          \n",
       "27  2013 1     1   611      600            11         945      931          \n",
       "28  2013 1     1   613      610             3         925      921          \n",
       "29  2013 1     1   615      615             0        1039     1100          \n",
       "30  2013 1     1   615      615             0         833      842          \n",
       "⋮   ⋮    ⋮     ⋮   ⋮        ⋮              ⋮         ⋮        ⋮             \n",
       "813 2013 1     1   2140     2135             5        210      224          \n",
       "814 2013 1     1   2157     2155             2         43       41          \n",
       "815 2013 1     1   2158     2200            -2       2254     2307          \n",
       "816 2013 1     1   2205     1720           285         46     2040          \n",
       "817 2013 1     1   2209     2145            24         58       37          \n",
       "818 2013 1     1   2209     2155            14       2400     2337          \n",
       "819 2013 1     1   2211     2145            26       2339     2311          \n",
       "820 2013 1     1   2217     2229           -12        249      315          \n",
       "821 2013 1     1   2217     2130            47        140       27          \n",
       "822 2013 1     1   2221     2000           141       2331     2124          \n",
       "823 2013 1     1   2224     2200            24       2324     2316          \n",
       "824 2013 1     1   2229     2159            30        149      100          \n",
       "825 2013 1     1   2240     2245            -5       2340     2356          \n",
       "826 2013 1     1   2250     2255            -5       2352     2359          \n",
       "827 2013 1     1   2302     2200            62       2342     2253          \n",
       "828 2013 1     1   2306     2245            21         28        5          \n",
       "829 2013 1     1   2307     2245            22         32     2357          \n",
       "830 2013 1     1   2310     2255            15         24       15          \n",
       "831 2013 1     1   2312     2000           192         21     2110          \n",
       "832 2013 1     1   2323     2200            83         22     2313          \n",
       "833 2013 1     1   2326     2130           116        131       18          \n",
       "834 2013 1     1   2327     2250            37         32     2359          \n",
       "835 2013 1     1   2343     1724           379        314     1938          \n",
       "836 2013 1     1   2353     2359            -6        425      445          \n",
       "837 2013 1     1   2353     2359            -6        418      442          \n",
       "838 2013 1     1   2356     2359            -3        425      437          \n",
       "839 2013 1     1     NA     1630            NA         NA     1815          \n",
       "840 2013 1     1     NA     1935            NA         NA     2240          \n",
       "841 2013 1     1     NA     1500            NA         NA     1825          \n",
       "842 2013 1     1     NA      600            NA         NA      901          \n",
       "    arr_delay carrier flight tailnum origin dest air_time distance hour minute\n",
       "1    11       UA      1545   N14228  EWR    IAH  227      1400     5    15    \n",
       "2    20       UA      1714   N24211  LGA    IAH  227      1416     5    29    \n",
       "3    33       AA      1141   N619AA  JFK    MIA  160      1089     5    40    \n",
       "4   -18       B6       725   N804JB  JFK    BQN  183      1576     5    45    \n",
       "5   -25       DL       461   N668DN  LGA    ATL  116       762     6     0    \n",
       "6    12       UA      1696   N39463  EWR    ORD  150       719     5    58    \n",
       "7    19       B6       507   N516JB  EWR    FLL  158      1065     6     0    \n",
       "8   -14       EV      5708   N829AS  LGA    IAD   53       229     6     0    \n",
       "9    -8       B6        79   N593JB  JFK    MCO  140       944     6     0    \n",
       "10    8       AA       301   N3ALAA  LGA    ORD  138       733     6     0    \n",
       "11   -2       B6        49   N793JB  JFK    PBI  149      1028     6     0    \n",
       "12   -3       B6        71   N657JB  JFK    TPA  158      1005     6     0    \n",
       "13    7       UA       194   N29129  JFK    LAX  345      2475     6     0    \n",
       "14  -14       UA      1124   N53441  EWR    SFO  361      2565     6     0    \n",
       "15   31       AA       707   N3DUAA  LGA    DFW  257      1389     6     0    \n",
       "16   -4       B6      1806   N708JB  JFK    BOS   44       187     5    59    \n",
       "17   -8       UA      1187   N76515  EWR    LAS  337      2227     6     0    \n",
       "18   -7       B6       371   N595JB  LGA    FLL  152      1076     6     0    \n",
       "19   12       MQ      4650   N542MQ  LGA    ATL  134       762     6     0    \n",
       "20   -6       B6       343   N644JB  EWR    PBI  147      1023     6     0    \n",
       "21   -8       DL      1919   N971DL  LGA    MSP  170      1020     6    10    \n",
       "22   16       MQ      4401   N730MQ  LGA    DTW  105       502     6     5    \n",
       "23  -12       AA      1895   N633AA  EWR    MIA  152      1085     6    10    \n",
       "24   -8       DL      1743   N3739P  JFK    ATL  128       760     6    10    \n",
       "25  -17       UA      1077   N53442  EWR    MIA  157      1085     6     7    \n",
       "26   32       MQ      3768   N9EAMQ  EWR    ORD  139       719     6     0    \n",
       "27   14       UA       303   N532UA  JFK    SFO  366      2586     6     0    \n",
       "28    4       B6       135   N635JB  JFK    RSW  175      1074     6    10    \n",
       "29  -21       B6       709   N794JB  JFK    SJU  182      1598     6    15    \n",
       "30   -9       DL       575   N326NB  EWR    ATL  120       746     6    15    \n",
       "⋮   ⋮         ⋮       ⋮      ⋮       ⋮      ⋮    ⋮        ⋮        ⋮    ⋮     \n",
       "813 -14       B6       701   N284JB  JFK    SJU  189      1598     21   35    \n",
       "814   2       B6        43   N537JB  JFK    MCO  140       944     21   55    \n",
       "815 -13       EV      4103   N14998  EWR    BWI   36       169     22    0    \n",
       "816 246       AA      1999   N5DNAA  EWR    MIA  146      1085     17   20    \n",
       "817  21       B6        35   N608JB  JFK    PBI  143      1028     21   45    \n",
       "818  23       B6      1109   N216JB  JFK    RDU   86       427     21   55    \n",
       "819  28       B6       104   N228JB  JFK    BUF   64       301     21   45    \n",
       "820 -26       B6       713   N547JB  JFK    SJU  191      1598     22   29    \n",
       "821  73       B6        21   N516JB  JFK    TPA  163      1005     21   30    \n",
       "822 127       EV      4462   N13566  EWR    BUF   56       282     20    0    \n",
       "823   8       EV      4206   N16561  EWR    PWM   47       284     22    0    \n",
       "824  49       B6        11   N531JB  JFK    FLL  153      1069     21   59    \n",
       "825 -16       B6       608   N279JB  JFK    PWM   44       273     22   45    \n",
       "826  -7       B6      1018   N521JB  JFK    BOS   37       187     22   55    \n",
       "827  49       EV      4276   N13903  EWR    BDL   24       116     22    0    \n",
       "828  23       B6        30   N281JB  JFK    ROC   59       264     22   45    \n",
       "829  35       B6       128   N178JB  JFK    BTV   59       266     22   45    \n",
       "830   9       B6       112   N646JB  JFK    BUF   57       301     22   55    \n",
       "831 191       EV      4312   N13958  EWR    DCA   44       199     20    0    \n",
       "832  69       EV      4257   N13538  EWR    BTV   44       266     22    0    \n",
       "833  73       B6       199   N594JB  JFK    LAS  290      2248     21   30    \n",
       "834  33       B6        22   N639JB  JFK    SYR   45       209     22   50    \n",
       "835 456       EV      4321   N21197  EWR    MCI  222      1092     17   24    \n",
       "836 -20       B6       739   N591JB  JFK    PSE  195      1617     23   59    \n",
       "837 -24       B6       707   N794JB  JFK    SJU  185      1598     23   59    \n",
       "838 -12       B6       727   N588JB  JFK    BQN  186      1576     23   59    \n",
       "839  NA       EV      4308   N18120  EWR    RDU   NA       416     16   30    \n",
       "840  NA       AA       791   N3EHAA  LGA    DFW   NA      1389     19   35    \n",
       "841  NA       AA      1925   N3EVAA  LGA    MIA   NA      1096     15    0    \n",
       "842  NA       B6       125   N618JB  JFK    FLL   NA      1069      6    0    \n",
       "    time_hour \n",
       "1   1357016400\n",
       "2   1357016400\n",
       "3   1357016400\n",
       "4   1357016400\n",
       "5   1357020000\n",
       "6   1357016400\n",
       "7   1357020000\n",
       "8   1357020000\n",
       "9   1357020000\n",
       "10  1357020000\n",
       "11  1357020000\n",
       "12  1357020000\n",
       "13  1357020000\n",
       "14  1357020000\n",
       "15  1357020000\n",
       "16  1357016400\n",
       "17  1357020000\n",
       "18  1357020000\n",
       "19  1357020000\n",
       "20  1357020000\n",
       "21  1357020000\n",
       "22  1357020000\n",
       "23  1357020000\n",
       "24  1357020000\n",
       "25  1357020000\n",
       "26  1357020000\n",
       "27  1357020000\n",
       "28  1357020000\n",
       "29  1357020000\n",
       "30  1357020000\n",
       "⋮   ⋮         \n",
       "813 1357074000\n",
       "814 1357074000\n",
       "815 1357077600\n",
       "816 1357059600\n",
       "817 1357074000\n",
       "818 1357074000\n",
       "819 1357074000\n",
       "820 1357077600\n",
       "821 1357074000\n",
       "822 1357070400\n",
       "823 1357077600\n",
       "824 1357074000\n",
       "825 1357077600\n",
       "826 1357077600\n",
       "827 1357077600\n",
       "828 1357077600\n",
       "829 1357077600\n",
       "830 1357077600\n",
       "831 1357070400\n",
       "832 1357077600\n",
       "833 1357074000\n",
       "834 1357077600\n",
       "835 1357059600\n",
       "836 1357081200\n",
       "837 1357081200\n",
       "838 1357081200\n",
       "839 1357056000\n",
       "840 1357066800\n",
       "841 1357052400\n",
       "842 1357020000"
      ]
     },
     "metadata": {},
     "output_type": "display_data"
    }
   ],
   "source": [
    "collect(c1)"
   ]
  },
  {
   "cell_type": "code",
   "execution_count": 21,
   "metadata": {
    "collapsed": false
   },
   "outputs": [
    {
     "data": {
      "text/plain": [
       "Source:   query [?? x 19]\n",
       "Database: sqlite 3.11.1 [/tmp/Rtmp7xv2vF/nycflights13.sqlite]\n",
       "\n",
       "    year month   day dep_time sched_dep_time dep_delay arr_time sched_arr_time\n",
       "   <int> <int> <int>    <int>          <int>     <dbl>    <int>          <int>\n",
       "1   2013     1     1      517            515         2      830            819\n",
       "2   2013     1     1      533            529         4      850            830\n",
       "3   2013     1     1      542            540         2      923            850\n",
       "4   2013     1     1      544            545        -1     1004           1022\n",
       "5   2013     1     1      554            600        -6      812            837\n",
       "6   2013     1     1      554            558        -4      740            728\n",
       "7   2013     1     1      555            600        -5      913            854\n",
       "8   2013     1     1      557            600        -3      709            723\n",
       "9   2013     1     1      557            600        -3      838            846\n",
       "10  2013     1     1      558            600        -2      753            745\n",
       "# ... with more rows, and 11 more variables: arr_delay <dbl>, carrier <chr>,\n",
       "#   flight <int>, tailnum <chr>, origin <chr>, dest <chr>, air_time <dbl>,\n",
       "#   distance <dbl>, hour <dbl>, minute <dbl>, time_hour <dbl>"
      ]
     },
     "metadata": {},
     "output_type": "display_data"
    }
   ],
   "source": [
    "collapse(c1)"
   ]
  },
  {
   "cell_type": "markdown",
   "metadata": {},
   "source": [
    "### SQL translation"
   ]
  },
  {
   "cell_type": "code",
   "execution_count": 22,
   "metadata": {
    "collapsed": false
   },
   "outputs": [
    {
     "data": {
      "text/html": [
       "'\"x\"'"
      ],
      "text/latex": [
       "'\"x\"'"
      ],
      "text/markdown": [
       "'\"x\"'"
      ],
      "text/plain": [
       "<SQL> \"x\""
      ]
     },
     "metadata": {},
     "output_type": "display_data"
    }
   ],
   "source": [
    "translate_sql(x)"
   ]
  },
  {
   "cell_type": "code",
   "execution_count": 23,
   "metadata": {
    "collapsed": false
   },
   "outputs": [
    {
     "data": {
      "text/html": [
       "'\\'x''"
      ],
      "text/latex": [
       "'\\textbackslash{}'x''"
      ],
      "text/markdown": [
       "'\\'x''"
      ],
      "text/plain": [
       "<SQL> 'x'"
      ]
     },
     "metadata": {},
     "output_type": "display_data"
    }
   ],
   "source": [
    "translate_sql(\"x\")"
   ]
  },
  {
   "cell_type": "code",
   "execution_count": 24,
   "metadata": {
    "collapsed": false
   },
   "outputs": [
    {
     "data": {
      "text/html": [
       "'\"x\" = 1.0 AND (\"y\" &lt; 2.0 OR \"z\" &gt; 3.0)'"
      ],
      "text/latex": [
       "'\"x\" = 1.0 AND (\"y\" < 2.0 OR \"z\" > 3.0)'"
      ],
      "text/markdown": [
       "'\"x\" = 1.0 AND (\"y\" &lt; 2.0 OR \"z\" &gt; 3.0)'"
      ],
      "text/plain": [
       "<SQL> \"x\" = 1.0 AND (\"y\" < 2.0 OR \"z\" > 3.0)"
      ]
     },
     "metadata": {},
     "output_type": "display_data"
    }
   ],
   "source": [
    "translate_sql(x == 1 && (y < 2 || z > 3))"
   ]
  },
  {
   "cell_type": "code",
   "execution_count": 25,
   "metadata": {
    "collapsed": false
   },
   "outputs": [
    {
     "data": {
      "text/html": [
       "'POWER(\"x\", 2.0) &lt; 10.0'"
      ],
      "text/latex": [
       "'POWER(\"x\", 2.0) < 10.0'"
      ],
      "text/markdown": [
       "'POWER(\"x\", 2.0) &lt; 10.0'"
      ],
      "text/plain": [
       "<SQL> POWER(\"x\", 2.0) < 10.0"
      ]
     },
     "metadata": {},
     "output_type": "display_data"
    }
   ],
   "source": [
    "translate_sql(x ^ 2 < 10)"
   ]
  },
  {
   "cell_type": "code",
   "execution_count": 26,
   "metadata": {
    "collapsed": false
   },
   "outputs": [
    {
     "data": {
      "text/html": [
       "'\"x\" % 2.0 = 10.0'"
      ],
      "text/latex": [
       "'\"x\" \\% 2.0 = 10.0'"
      ],
      "text/markdown": [
       "'\"x\" % 2.0 = 10.0'"
      ],
      "text/plain": [
       "<SQL> \"x\" % 2.0 = 10.0"
      ]
     },
     "metadata": {},
     "output_type": "display_data"
    }
   ],
   "source": [
    "translate_sql(x %% 2 == 10)"
   ]
  },
  {
   "cell_type": "code",
   "execution_count": 27,
   "metadata": {
    "collapsed": false
   },
   "outputs": [
    {
     "data": {
      "text/html": [
       "'1.0'"
      ],
      "text/latex": [
       "'1.0'"
      ],
      "text/markdown": [
       "'1.0'"
      ],
      "text/plain": [
       "<SQL> 1.0"
      ]
     },
     "metadata": {},
     "output_type": "display_data"
    }
   ],
   "source": [
    "translate_sql(1)"
   ]
  },
  {
   "cell_type": "code",
   "execution_count": 28,
   "metadata": {
    "collapsed": false
   },
   "outputs": [
    {
     "data": {
      "text/html": [
       "'1'"
      ],
      "text/latex": [
       "'1'"
      ],
      "text/markdown": [
       "'1'"
      ],
      "text/plain": [
       "<SQL> 1"
      ]
     },
     "metadata": {},
     "output_type": "display_data"
    }
   ],
   "source": [
    "translate_sql(1L)"
   ]
  },
  {
   "cell_type": "code",
   "execution_count": 29,
   "metadata": {
    "collapsed": false
   },
   "outputs": [
    {
     "ename": "ERROR",
     "evalue": "Error in mean(x, trim = T): unused argument (trim = T)\n",
     "output_type": "error",
     "traceback": [
      "Error in mean(x, trim = T): unused argument (trim = T)\nTraceback:\n",
      "1. translate_sql(mean(x, trim = T))",
      "2. translate_sql_(dots, con = con, vars = vars, vars_group = vars_group, \n .     vars_order = vars_order, window = window)",
      "3. lapply(expr, function(x) {\n .     if (is.atomic(x)) \n .         return(escape(x, con = con))\n .     env <- sql_env(x, variant, con, window = window)\n .     escape(eval(x, envir = env))\n . })",
      "4. FUN(X[[i]], ...)",
      "5. escape(eval(x, envir = env))",
      "6. eval(x, envir = env)",
      "7. eval(expr, envir, enclos)",
      "8. mean(x, trim = T)"
     ]
    }
   ],
   "source": [
    "translate_sql(mean(x, trim = T))"
   ]
  },
  {
   "cell_type": "code",
   "execution_count": 30,
   "metadata": {
    "collapsed": false
   },
   "outputs": [
    {
     "data": {
      "text/html": [
       "'GLOB(\"x\", \"y\")'"
      ],
      "text/latex": [
       "'GLOB(\"x\", \"y\")'"
      ],
      "text/markdown": [
       "'GLOB(\"x\", \"y\")'"
      ],
      "text/plain": [
       "<SQL> GLOB(\"x\", \"y\")"
      ]
     },
     "metadata": {},
     "output_type": "display_data"
    }
   ],
   "source": [
    "translate_sql(glob(x, y))"
   ]
  },
  {
   "cell_type": "code",
   "execution_count": 31,
   "metadata": {
    "collapsed": false
   },
   "outputs": [
    {
     "data": {
      "text/html": [
       "'\"x\" LIKE \\'ab*''"
      ],
      "text/latex": [
       "'\"x\" LIKE \\textbackslash{}'ab*''"
      ],
      "text/markdown": [
       "'\"x\" LIKE \\'ab*''"
      ],
      "text/plain": [
       "<SQL> \"x\" LIKE 'ab*'"
      ]
     },
     "metadata": {},
     "output_type": "display_data"
    }
   ],
   "source": [
    "translate_sql(x %like% \"ab*\")"
   ]
  },
  {
   "cell_type": "markdown",
   "metadata": {},
   "source": [
    "### Grouping"
   ]
  },
  {
   "cell_type": "code",
   "execution_count": 32,
   "metadata": {
    "collapsed": true
   },
   "outputs": [],
   "source": [
    "by_tailnum <- group_by(flights_sqlite, tailnum)\n",
    "delay <- summarise(by_tailnum,\n",
    "  count = n(),\n",
    "  dist = mean(distance),\n",
    "  delay = mean(arr_delay)\n",
    ")\n",
    "delay <- filter(delay, count > 20, dist < 2000)\n",
    "delay_local <- collect(delay)"
   ]
  },
  {
   "cell_type": "markdown",
   "metadata": {
    "collapsed": true
   },
   "source": [
    "### References:\n",
    "\n",
    "[1] https://cran.r-project.org/web/packages/dplyr/vignettes/databases.html"
   ]
  }
 ],
 "metadata": {
  "kernelspec": {
   "display_name": "R",
   "language": "R",
   "name": "ir"
  },
  "language_info": {
   "codemirror_mode": "r",
   "file_extension": ".r",
   "mimetype": "text/x-r-source",
   "name": "R",
   "pygments_lexer": "r",
   "version": "3.3.2"
  }
 },
 "nbformat": 4,
 "nbformat_minor": 2
}
